{
 "cells": [
  {
   "cell_type": "code",
   "execution_count": 1,
   "metadata": {},
   "outputs": [],
   "source": [
    "%matplotlib widget\n",
    "import matplotlib.pyplot as plt"
   ]
  },
  {
   "cell_type": "code",
   "execution_count": 2,
   "metadata": {},
   "outputs": [],
   "source": [
    "import numpy as np\n",
    "import pandas as pd\n",
    "from gen_data import get_data, fit"
   ]
  },
  {
   "cell_type": "code",
   "execution_count": 3,
   "metadata": {},
   "outputs": [],
   "source": [
    "d = get_data(25)                                         # grab the data \n",
    "fits = [fit(m) for m in d]                               # fit all of the curves\n",
    "fits_df = pd.DataFrame(fits, index=d.coords[\"control\"])  # put the fit values is a DataFrame"
   ]
  },
  {
   "cell_type": "code",
   "execution_count": 4,
   "metadata": {},
   "outputs": [
    {
     "data": {
      "application/vnd.jupyter.widget-view+json": {
       "model_id": "24bd9398cc4d4785a2202be6075d01a9",
       "version_major": 2,
       "version_minor": 0
      },
      "text/plain": [
       "Canvas(toolbar=Toolbar(toolitems=[('Home', 'Reset original view', 'home', 'home'), ('Back', 'Back to previous …"
      ]
     },
     "metadata": {},
     "output_type": "display_data"
    },
    {
     "data": {
      "text/plain": [
       "<AxesSubplot:xlabel='control'>"
      ]
     },
     "execution_count": 4,
     "metadata": {},
     "output_type": "execute_result"
    }
   ],
   "source": [
    "fig, ax = plt.subplots()\n",
    "fits_df.plot(y=['zeta', 'omega'], ax=ax)"
   ]
  },
  {
   "cell_type": "code",
   "execution_count": 5,
   "metadata": {},
   "outputs": [],
   "source": [
    "def plot_zeta(ax, fits_df):\n",
    "    ax.set_ylabel(r\"$\\zeta$\")\n",
    "    ax.set_xlabel(\"control (arb)\")\n",
    "    ax.set_ylim(0, 0.08)\n",
    "    return ax.plot(\n",
    "        fits_df[\"zeta\"], marker=\"o\", color=\"k\", label=\"\\N{greek small letter zeta}\", linestyle=''\n",
    "    )\n",
    "\n",
    "\n",
    "def plot_omega(ax, fits_df):\n",
    "    ax.set_ylabel(r\"$\\omega_0/2\\pi$ (kHz)\")\n",
    "    ax.set_xlabel(\"control (arb)\")\n",
    "    ax.set_ylim(0, 1.25)\n",
    "    return ax.plot(\n",
    "        fits_df[\"omega\"] / (2 * np.pi),\n",
    "        marker=\"o\",\n",
    "        color=\"k\",\n",
    "        label=\"\\N{greek small letter omega}\",\n",
    "    )\n"
   ]
  },
  {
   "cell_type": "code",
   "execution_count": 6,
   "metadata": {},
   "outputs": [
    {
     "data": {
      "application/vnd.jupyter.widget-view+json": {
       "model_id": "906dc2e34ea74a90b779cdf20a1b6790",
       "version_major": 2,
       "version_minor": 0
      },
      "text/plain": [
       "Canvas(toolbar=Toolbar(toolitems=[('Home', 'Reset original view', 'home', 'home'), ('Back', 'Back to previous …"
      ]
     },
     "metadata": {},
     "output_type": "display_data"
    },
    {
     "data": {
      "text/plain": [
       "<matplotlib.legend.Legend at 0x7faf1f0a1760>"
      ]
     },
     "execution_count": 6,
     "metadata": {},
     "output_type": "execute_result"
    }
   ],
   "source": [
    "fig, (ax1, ax2) = plt.subplots(1, 2, constrained_layout=True)\n",
    "plot_zeta(ax1, fits_df)\n",
    "plot_omega(ax2, fits_df)\n",
    "ax1.legend()\n",
    "ax2.legend()"
   ]
  },
  {
   "cell_type": "code",
   "execution_count": 7,
   "metadata": {},
   "outputs": [],
   "source": [
    "def plot_one(ax, m, popt, offset=0):\n",
    "    # pull what we want out of the xarray\n",
    "    control = float(m.coords[\"control\"])\n",
    "    t = m.coords[\"time\"]\n",
    "    z = m.values\n",
    "\n",
    "    (ln,) = ax.plot(t, z + offset, label=f\"C: {control:.1f}\")\n",
    "    (fit,) = ax.plot(t, popt.sample(t) + offset, color=\"k\")\n",
    "    ann = ax.annotate(\n",
    "        f\"$C={control:.1f}$\\n$\\\\zeta={popt.zeta:.2g}$ $\\\\omega_0={popt.omega:.2f}$\",\n",
    "        # units are (axes-fraction, data)\n",
    "        xy=(0.95, offset + 0.5),\n",
    "        xycoords=ax.get_yaxis_transform(),\n",
    "        # set the text alignment\n",
    "        ha=\"right\",\n",
    "        va=\"bottom\",\n",
    "    )\n",
    "    return {\"raw\": ln, \"fit\": fit, \"annotation\": ann}\n",
    "\n",
    "def plot_several(ax, d, fits):\n",
    "    out = []\n",
    "\n",
    "    for j, (m, popt) in enumerate(zip(d, fits)):\n",
    "        arts = plot_one(ax, m, popt, offset=3.75 * j)\n",
    "        out.append(arts)\n",
    "\n",
    "    ax.set_xlabel(\"time (ms)\")\n",
    "    ax.set_ylabel(\"displacement (mm)\")\n",
    "\n",
    "    return out"
   ]
  },
  {
   "cell_type": "code",
   "execution_count": 8,
   "metadata": {},
   "outputs": [
    {
     "data": {
      "application/vnd.jupyter.widget-view+json": {
       "model_id": "953ab85683534b83b7163dce505548de",
       "version_major": 2,
       "version_minor": 0
      },
      "text/plain": [
       "Canvas(toolbar=Toolbar(toolitems=[('Home', 'Reset original view', 'home', 'home'), ('Back', 'Back to previous …"
      ]
     },
     "metadata": {},
     "output_type": "display_data"
    },
    {
     "data": {
      "text/plain": [
       "[{'raw': <matplotlib.lines.Line2D at 0x7faf1e4e9b20>,\n",
       "  'fit': <matplotlib.lines.Line2D at 0x7faf1a433d00>,\n",
       "  'annotation': Text(0.95, 0.5, '$C=15.0$\\n$\\\\zeta=0.036$ $\\\\omega_0=3.00$')},\n",
       " {'raw': <matplotlib.lines.Line2D at 0x7faf1e5377c0>,\n",
       "  'fit': <matplotlib.lines.Line2D at 0x7faf1a4806d0>,\n",
       "  'annotation': Text(0.95, 4.25, '$C=21.2$\\n$\\\\zeta=0.028$ $\\\\omega_0=4.01$')},\n",
       " {'raw': <matplotlib.lines.Line2D at 0x7faf1e562ac0>,\n",
       "  'fit': <matplotlib.lines.Line2D at 0x7faf1a466610>,\n",
       "  'annotation': Text(0.95, 8.0, '$C=30.0$\\n$\\\\zeta=0.045$ $\\\\omega_0=6.00$')}]"
      ]
     },
     "execution_count": 8,
     "metadata": {},
     "output_type": "execute_result"
    }
   ],
   "source": [
    "fig, ax = plt.subplots()\n",
    "indx = [0, 10, 24]\n",
    "plot_several(ax, d[indx], [fits[i] for i in indx])"
   ]
  },
  {
   "cell_type": "code",
   "execution_count": 9,
   "metadata": {},
   "outputs": [
    {
     "data": {
      "application/vnd.jupyter.widget-view+json": {
       "model_id": "d7107753656340a1a09168bc4d6acb99",
       "version_major": 2,
       "version_minor": 0
      },
      "text/plain": [
       "Canvas(toolbar=Toolbar(toolitems=[('Home', 'Reset original view', 'home', 'home'), ('Back', 'Back to previous …"
      ]
     },
     "metadata": {},
     "output_type": "display_data"
    },
    {
     "data": {
      "text/plain": [
       "[<matplotlib.lines.Line2D at 0x7faf1f0e0430>]"
      ]
     },
     "execution_count": 9,
     "metadata": {},
     "output_type": "execute_result"
    }
   ],
   "source": [
    "fig, (ax1, ax2, ax3) = plt.subplots(1, 3, constrained_layout=True)\n",
    "indx = [0, 10, 24]\n",
    "plot_several(ax1, d[indx], [fits[i] for i in indx])\n",
    "plot_zeta(ax2, fits_df)\n",
    "plot_omega(ax3, fits_df)"
   ]
  },
  {
   "cell_type": "code",
   "execution_count": 10,
   "metadata": {},
   "outputs": [
    {
     "data": {
      "application/vnd.jupyter.widget-view+json": {
       "model_id": "849435b0e3784002b17b7423efc46c16",
       "version_major": 2,
       "version_minor": 0
      },
      "text/plain": [
       "Canvas(toolbar=Toolbar(toolitems=[('Home', 'Reset original view', 'home', 'home'), ('Back', 'Back to previous …"
      ]
     },
     "metadata": {},
     "output_type": "display_data"
    }
   ],
   "source": [
    "fig, ax_dict = plt.subplot_mosaic(\"\"\"\n",
    "AB\n",
    "AC\n",
    "\"\"\", constrained_layout=True)\n",
    "indx = [0, 10, 24]\n",
    "plot_several(ax_dict['A'], d[indx], [fits[i] for i in indx])\n",
    "plot_zeta(ax_dict['B'], fits_df)\n",
    "plot_omega(ax_dict['C'], fits_df)\n",
    "fig.align_ylabels(list(ax_dict.values()))"
   ]
  },
  {
   "cell_type": "code",
   "execution_count": 11,
   "metadata": {},
   "outputs": [],
   "source": [
    "def subplot_label(ax, text):\n",
    "    return ax.annotate(\n",
    "        text,\n",
    "        # units are (axes-fraction, axes-fraction)\n",
    "        # # this is bottom right\n",
    "        # xy=(1, 0),\n",
    "        # this is the top left\n",
    "        xy=(0, 1),\n",
    "        xycoords=\"axes fraction\",\n",
    "        # units are absolute offset in points from xy\n",
    "        xytext=(-5, 5),\n",
    "        textcoords=(\"offset points\"),\n",
    "        # set the text alignment\n",
    "        ha=\"right\",\n",
    "        va=\"bottom\",\n",
    "        fontweight=\"bold\",\n",
    "        fontsize=\"larger\",\n",
    "    )\n"
   ]
  },
  {
   "cell_type": "code",
   "execution_count": 12,
   "metadata": {},
   "outputs": [
    {
     "data": {
      "application/vnd.jupyter.widget-view+json": {
       "model_id": "3fa9a6d3752d487dac804f8bbaa16738",
       "version_major": 2,
       "version_minor": 0
      },
      "text/plain": [
       "Canvas(toolbar=Toolbar(toolitems=[('Home', 'Reset original view', 'home', 'home'), ('Back', 'Back to previous …"
      ]
     },
     "metadata": {},
     "output_type": "display_data"
    }
   ],
   "source": [
    "fig, ax_dict = plt.subplot_mosaic(\"\"\"\n",
    "AB\n",
    "AC\n",
    "\"\"\", constrained_layout=True)\n",
    "indx = [0, 10, 24]\n",
    "plot_several(ax_dict['A'], d[indx], [fits[i] for i in indx])\n",
    "plot_zeta(ax_dict['B'], fits_df)\n",
    "plot_omega(ax_dict['C'], fits_df)\n",
    "fig.align_ylabels(list(ax_dict.values()))\n",
    "subplot_labels = {\n",
    "    k: subplot_label(v, f\"({k.lower()})\") for k, v in ax_dict.items()\n",
    "}"
   ]
  },
  {
   "cell_type": "code",
   "execution_count": 13,
   "metadata": {},
   "outputs": [],
   "source": [
    "def paper_figure_2(fig, layout, d, fits, *, plot_every=5):\n",
    "    ax_dict = fig.subplot_mosaic(layout)\n",
    "\n",
    "    fits_df = pd.DataFrame(fits, index=d.coords[\"control\"])\n",
    "\n",
    "    index = list(range(0, len(d), plot_every))\n",
    "\n",
    "    artists = {\n",
    "        \"vibrations\": plot_several(ax_dict[\"A\"], d[index], [fits[i] for i in index]),\n",
    "        \"zeta\": plot_zeta(ax_dict[\"B\"], fits_df),\n",
    "        \"omega\": plot_omega(ax_dict[\"C\"], fits_df),\n",
    "    }\n",
    "\n",
    "    fig.align_ylabels(list(ax_dict.values()))\n",
    "    subplot_labels = {\n",
    "        k: subplot_label(v, f\"({k.lower()})\") for k, v in ax_dict.items()\n",
    "    }\n",
    "\n",
    "    return (fig, ax_dict, artists, subplot_labels)"
   ]
  },
  {
   "cell_type": "code",
   "execution_count": 14,
   "metadata": {},
   "outputs": [],
   "source": [
    "single_col_width = 8.6 / 2.54  # single column APS figure\n",
    "double_col_width = 17.8 / 2.54  # double column APS figure\n"
   ]
  },
  {
   "cell_type": "code",
   "execution_count": 15,
   "metadata": {},
   "outputs": [
    {
     "data": {
      "application/vnd.jupyter.widget-view+json": {
       "model_id": "d1c05590026740faa2c66055512d55c1",
       "version_major": 2,
       "version_minor": 0
      },
      "text/plain": [
       "Canvas(toolbar=Toolbar(toolitems=[('Home', 'Reset original view', 'home', 'home'), ('Back', 'Back to previous …"
      ]
     },
     "metadata": {},
     "output_type": "display_data"
    }
   ],
   "source": [
    "fig, axs, arts, labels = paper_figure_2(\n",
    "    plt.figure(\n",
    "        constrained_layout=True, figsize=(double_col_width, double_col_width * 0.5)\n",
    "    ),\n",
    "    \"AB\\nAC\",\n",
    "    d,\n",
    "    fits,\n",
    "    plot_every=5,\n",
    ")"
   ]
  },
  {
   "cell_type": "code",
   "execution_count": 16,
   "metadata": {},
   "outputs": [
    {
     "data": {
      "application/vnd.jupyter.widget-view+json": {
       "model_id": "696095b737964a2a88dd274440b59128",
       "version_major": 2,
       "version_minor": 0
      },
      "text/plain": [
       "Canvas(toolbar=Toolbar(toolitems=[('Home', 'Reset original view', 'home', 'home'), ('Back', 'Back to previous …"
      ]
     },
     "metadata": {},
     "output_type": "display_data"
    },
    {
     "data": {
      "text/plain": [
       "(<Figure size 338.583x846.457 with 3 Axes>,\n",
       " {'C': <AxesSubplot:label='C', xlabel='control (arb)', ylabel='$\\\\omega_0/2\\\\pi$ (kHz)'>,\n",
       "  'B': <AxesSubplot:label='B', xlabel='control (arb)', ylabel='$\\\\zeta$'>,\n",
       "  'A': <AxesSubplot:label='A', xlabel='time (ms)', ylabel='displacement (mm)'>},\n",
       " {'vibrations': [{'raw': <matplotlib.lines.Line2D at 0x7faf186ba880>,\n",
       "    'fit': <matplotlib.lines.Line2D at 0x7faf186badf0>,\n",
       "    'annotation': Text(0.95, 0.5, '$C=15.0$\\n$\\\\zeta=0.036$ $\\\\omega_0=3.00$')},\n",
       "   {'raw': <matplotlib.lines.Line2D at 0x7faf186c0310>,\n",
       "    'fit': <matplotlib.lines.Line2D at 0x7faf186c0a30>,\n",
       "    'annotation': Text(0.95, 4.25, '$C=21.2$\\n$\\\\zeta=0.028$ $\\\\omega_0=4.01$')},\n",
       "   {'raw': <matplotlib.lines.Line2D at 0x7faf186c0b20>,\n",
       "    'fit': <matplotlib.lines.Line2D at 0x7faf186c71f0>,\n",
       "    'annotation': Text(0.95, 8.0, '$C=27.5$\\n$\\\\zeta=0.041$ $\\\\omega_0=5.36$')}],\n",
       "  'zeta': [<matplotlib.lines.Line2D at 0x7faf186ba3a0>],\n",
       "  'omega': [<matplotlib.lines.Line2D at 0x7faf186c78b0>]},\n",
       " {'C': Text(-5, 5, '(c)'), 'B': Text(-5, 5, '(b)'), 'A': Text(-5, 5, '(a)')})"
      ]
     },
     "execution_count": 16,
     "metadata": {},
     "output_type": "execute_result"
    }
   ],
   "source": [
    "paper_figure_2(\n",
    "    plt.figure(\n",
    "        constrained_layout=True, figsize=(single_col_width, single_col_width * 2.5)\n",
    "    ),\n",
    "    \"A\\nB\\nC\",\n",
    "    d,\n",
    "    fits,\n",
    "    plot_every=10,\n",
    ")\n"
   ]
  },
  {
   "cell_type": "code",
   "execution_count": null,
   "metadata": {},
   "outputs": [],
   "source": []
  }
 ],
 "metadata": {
  "kernelspec": {
   "display_name": "Python 3",
   "language": "python",
   "name": "python3"
  },
  "language_info": {
   "codemirror_mode": {
    "name": "ipython",
    "version": 3
   },
   "file_extension": ".py",
   "mimetype": "text/x-python",
   "name": "python",
   "nbconvert_exporter": "python",
   "pygments_lexer": "ipython3",
   "version": "3.9.2"
  }
 },
 "nbformat": 4,
 "nbformat_minor": 4
}
