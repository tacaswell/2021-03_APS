{
 "cells": [
  {
   "cell_type": "code",
   "execution_count": 16,
   "metadata": {},
   "outputs": [],
   "source": [
    "%matplotlib widget\n",
    "import matplotlib.pyplot as plt"
   ]
  },
  {
   "cell_type": "code",
   "execution_count": 17,
   "metadata": {},
   "outputs": [],
   "source": [
    "from gen_data import get_data\n",
    "d = get_data(25)\n",
    "m = d[5]"
   ]
  },
  {
   "cell_type": "code",
   "execution_count": 18,
   "metadata": {
    "tags": []
   },
   "outputs": [
    {
     "data": {
      "application/vnd.jupyter.widget-view+json": {
       "model_id": "4a84dfa48f5d4808993cc029deffc360",
       "version_major": 2,
       "version_minor": 0
      },
      "text/plain": [
       "Canvas(toolbar=Toolbar(toolitems=[('Home', 'Reset original view', 'home', 'home'), ('Back', 'Back to previous …"
      ]
     },
     "metadata": {},
     "output_type": "display_data"
    },
    {
     "data": {
      "text/plain": [
       "Text(0, 0.5, 'displacement (mm)')"
      ]
     },
     "execution_count": 18,
     "metadata": {},
     "output_type": "execute_result"
    }
   ],
   "source": [
    "fig, ax = plt.subplots()\n",
    "control = float(m.control)\n",
    "t = m.time\n",
    "z = m.values\n",
    "(ln,) = ax.plot(t, z, label=f\"C: {control:.1f}\")\n",
    "ax.legend()\n",
    "ax.set_xlabel(\"time (ms)\")\n",
    "ax.set_ylabel(\"displacement (mm)\")\n"
   ]
  },
  {
   "cell_type": "code",
   "execution_count": 21,
   "metadata": {
    "tags": []
   },
   "outputs": [
    {
     "data": {
      "application/vnd.jupyter.widget-view+json": {
       "model_id": "82cd4c76cdb84a17bdda72836bf45693",
       "version_major": 2,
       "version_minor": 0
      },
      "text/plain": [
       "Canvas(toolbar=Toolbar(toolitems=[('Home', 'Reset original view', 'home', 'home'), ('Back', 'Back to previous …"
      ]
     },
     "metadata": {},
     "output_type": "display_data"
    },
    {
     "data": {
      "text/plain": [
       "Text(0, 0.5, 'displacement (mm)')"
      ]
     },
     "execution_count": 21,
     "metadata": {},
     "output_type": "execute_result"
    }
   ],
   "source": [
    "def plot_one(ax, m):\n",
    "    # pull what we want out of the xarray\n",
    "    control = float(m.control)\n",
    "    t = m.time\n",
    "    z = m.values\n",
    "\n",
    "    (ln,) = ax.plot(t, z, label=f\"C: {control:.1f}\")\n",
    "\n",
    "    return {\"raw\": ln}\n",
    "\n",
    "\n",
    "fig, ax = plt.subplots()\n",
    "plot_one(ax, d[0])\n",
    "plot_one(ax, d[5])\n",
    "plot_one(ax, d[-1])\n",
    "ax.legend()\n",
    "ax.set_xlabel(\"time (ms)\")\n",
    "ax.set_ylabel(\"displacement (mm)\")"
   ]
  },
  {
   "cell_type": "code",
   "execution_count": 22,
   "metadata": {},
   "outputs": [
    {
     "data": {
      "application/vnd.jupyter.widget-view+json": {
       "model_id": "1aaa77c23c3a415db4b8c5c64d02c9e7",
       "version_major": 2,
       "version_minor": 0
      },
      "text/plain": [
       "Canvas(toolbar=Toolbar(toolitems=[('Home', 'Reset original view', 'home', 'home'), ('Back', 'Back to previous …"
      ]
     },
     "metadata": {},
     "output_type": "display_data"
    },
    {
     "data": {
      "text/plain": [
       "Text(0, 0.5, 'displacement (mm)')"
      ]
     },
     "execution_count": 22,
     "metadata": {},
     "output_type": "execute_result"
    }
   ],
   "source": [
    "def plot_one(ax, m, offset=0):\n",
    "    # pull what we want out of the xarray\n",
    "    control = float(m.coords[\"control\"])\n",
    "    t = m.time\n",
    "    z = m.values\n",
    "\n",
    "    (ln,) = ax.plot(t, z + offset, label=f\"C: {control:.1f}\")\n",
    "\n",
    "    return {\"raw\": ln}\n",
    "\n",
    "\n",
    "fig, ax = plt.subplots()\n",
    "plot_one(ax, d[0])\n",
    "plot_one(ax, d[10], offset=4)\n",
    "plot_one(ax, d[20], offset=8)\n",
    "ax.legend()\n",
    "ax.set_xlabel(\"time (ms)\")\n",
    "ax.set_ylabel(\"displacement (mm)\")\n"
   ]
  },
  {
   "cell_type": "code",
   "execution_count": 23,
   "metadata": {},
   "outputs": [],
   "source": [
    "from gen_data import fit"
   ]
  },
  {
   "cell_type": "code",
   "execution_count": 28,
   "metadata": {},
   "outputs": [
    {
     "name": "stdout",
     "output_type": "stream",
     "text": [
      "Params(A=2.0014400039521316, zeta=0.02658800859092437, omega=3.563013819697966, phi=1.5653506273195317)\n",
      "(A=2.00, ζ=0.03, ω0=3.56, φ=1.57)\n",
      "$(A=2.00, \\zeta=0.03, \\omega_0=3.56,\\varphi=1.57)$\n"
     ]
    },
    {
     "data": {
      "text/latex": [
       "$(A=2.00, \\zeta=0.03, \\omega_0=3.56,\\varphi=1.57)$"
      ],
      "text/plain": [
       "Params(A=2.0014400039521316, zeta=0.02658800859092437, omega=3.563013819697966, phi=1.5653506273195317)"
      ]
     },
     "execution_count": 28,
     "metadata": {},
     "output_type": "execute_result"
    }
   ],
   "source": [
    "fit_vals = fit(d[6])\n",
    "print(repr(fit_vals))\n",
    "print(fit_vals)\n",
    "print(fit_vals._repr_latex_())\n",
    "fit_vals"
   ]
  },
  {
   "cell_type": "code",
   "execution_count": 29,
   "metadata": {},
   "outputs": [
    {
     "data": {
      "application/vnd.jupyter.widget-view+json": {
       "model_id": "3cd3777baf384ff78006139648b7bdf4",
       "version_major": 2,
       "version_minor": 0
      },
      "text/plain": [
       "Canvas(toolbar=Toolbar(toolitems=[('Home', 'Reset original view', 'home', 'home'), ('Back', 'Back to previous …"
      ]
     },
     "metadata": {},
     "output_type": "display_data"
    },
    {
     "data": {
      "text/plain": [
       "Text(0, 0.5, 'displacement (mm)')"
      ]
     },
     "execution_count": 29,
     "metadata": {},
     "output_type": "execute_result"
    }
   ],
   "source": [
    "fig, ax = plt.subplots()\n",
    "ax.plot(m.time, fit_vals.sample(m.time), label=fit_vals._repr_latex_(), color='k')\n",
    "plt.gca().set_title(\n",
    "     r\"$A e^{-\\zeta\\omega_0t} \\sin\\left(\\sqrt{1 - \\zeta^2}\\omega_0t + \\varphi\\right)$\",\n",
    "     usetex=True,\n",
    ")\n",
    "\n",
    "plt.legend()\n",
    "ax.set_xlabel(\"time (ms)\")\n",
    "ax.set_ylabel(\"displacement (mm)\")\n"
   ]
  },
  {
   "cell_type": "code",
   "execution_count": 33,
   "metadata": {},
   "outputs": [],
   "source": [
    "def plot_one(ax, m, popt, offset=0):\n",
    "    # pull what we want out of the xarray\n",
    "    control = float(m.coords[\"control\"])\n",
    "    t = m.coords[\"time\"]\n",
    "    z = m.values\n",
    "\n",
    "    (ln,) = ax.plot(t, z + offset, label=f\"C: {control:.1f}\")\n",
    "    (fit,) = ax.plot(t, popt.sample(t) + offset, color=\"k\")\n",
    "    ann = ax.annotate(\n",
    "        f\"$\\\\zeta={popt.zeta:.2g}$, $\\\\omega_0={popt.omega:.2f}$\",\n",
    "        # units are (axes-fraction, data)\n",
    "        xy=(0.95, offset + 0.5),\n",
    "        xycoords=ax.get_yaxis_transform(),\n",
    "        # set the text alignment\n",
    "        ha=\"right\",\n",
    "        va=\"bottom\",\n",
    "    )\n",
    "    return {\"raw\": ln, \"fit\": fit, \"annotation\": ann}\n"
   ]
  },
  {
   "cell_type": "code",
   "execution_count": 36,
   "metadata": {},
   "outputs": [
    {
     "data": {
      "application/vnd.jupyter.widget-view+json": {
       "model_id": "07724faaa8df4b6ea0cafb588dbefa2a",
       "version_major": 2,
       "version_minor": 0
      },
      "text/plain": [
       "Canvas(toolbar=Toolbar(toolitems=[('Home', 'Reset original view', 'home', 'home'), ('Back', 'Back to previous …"
      ]
     },
     "metadata": {},
     "output_type": "display_data"
    }
   ],
   "source": [
    "fig, ax = plt.subplots()\n",
    "plot_one(ax, d[0], fit(d[0]))\n",
    "plot_one(ax, d[10], fit(d[10]), offset=4)\n",
    "plot_one(ax, d[20], fit(d[20]), offset=8)\n",
    "plot_one(ax, d[24], fit(d[24]), offset=12)\n",
    "ax.legend(ncol=3, loc=\"upper center\")\n",
    "ax.set_xlabel(\"time (ms)\")\n",
    "ax.set_ylabel(\"displacement (mm)\")\n",
    "plt.show()\n"
   ]
  },
  {
   "cell_type": "code",
   "execution_count": 37,
   "metadata": {},
   "outputs": [],
   "source": [
    "def plot_several(ax, d, fits):\n",
    "    out = []\n",
    "\n",
    "    for j, (m, popt) in enumerate(zip(d, fits)):\n",
    "        arts = plot_one(ax, m, popt, offset=3.75 * j)\n",
    "        out.append(arts)\n",
    "\n",
    "    ax.set_xlabel(\"time (ms)\")\n",
    "    ax.set_ylabel(\"displacement (mm)\")\n",
    "\n",
    "    return out\n"
   ]
  },
  {
   "cell_type": "code",
   "execution_count": 38,
   "metadata": {},
   "outputs": [
    {
     "data": {
      "application/vnd.jupyter.widget-view+json": {
       "model_id": "ab5dc2018b1d42e6a18401f03e2dd3bb",
       "version_major": 2,
       "version_minor": 0
      },
      "text/plain": [
       "Canvas(toolbar=Toolbar(toolitems=[('Home', 'Reset original view', 'home', 'home'), ('Back', 'Back to previous …"
      ]
     },
     "metadata": {},
     "output_type": "display_data"
    },
    {
     "data": {
      "text/plain": [
       "<matplotlib.legend.Legend at 0x7fcd51a6fa00>"
      ]
     },
     "execution_count": 38,
     "metadata": {},
     "output_type": "execute_result"
    }
   ],
   "source": [
    "fig, ax = plt.subplots()\n",
    "indx = [0, 5, 15, 24]\n",
    "plot_several(ax, d[indx], [fit(d[i]) for i in indx])\n",
    "ax.legend(ncol=3, loc=\"upper center\")"
   ]
  },
  {
   "cell_type": "code",
   "execution_count": null,
   "metadata": {},
   "outputs": [],
   "source": []
  }
 ],
 "metadata": {
  "kernelspec": {
   "display_name": "Python 3",
   "language": "python",
   "name": "python3"
  },
  "language_info": {
   "codemirror_mode": {
    "name": "ipython",
    "version": 3
   },
   "file_extension": ".py",
   "mimetype": "text/x-python",
   "name": "python",
   "nbconvert_exporter": "python",
   "pygments_lexer": "ipython3",
   "version": "3.9.2"
  }
 },
 "nbformat": 4,
 "nbformat_minor": 4
}
