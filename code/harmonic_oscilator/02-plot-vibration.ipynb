{
 "cells": [
  {
   "cell_type": "code",
   "execution_count": 1,
   "metadata": {},
   "outputs": [],
   "source": [
    "%matplotlib widget\n",
    "import matplotlib.pyplot as plt"
   ]
  },
  {
   "cell_type": "code",
   "execution_count": 2,
   "metadata": {},
   "outputs": [],
   "source": [
    "from gen_data import get_data\n",
    "d = get_data(25)\n",
    "m = d[5]"
   ]
  },
  {
   "cell_type": "code",
   "execution_count": 3,
   "metadata": {
    "tags": []
   },
   "outputs": [
    {
     "data": {
      "application/vnd.jupyter.widget-view+json": {
       "model_id": "cf6e69389b4445f49a64c26e776939c4",
       "version_major": 2,
       "version_minor": 0
      },
      "text/plain": [
       "Canvas(toolbar=Toolbar(toolitems=[('Home', 'Reset original view', 'home', 'home'), ('Back', 'Back to previous …"
      ]
     },
     "metadata": {},
     "output_type": "display_data"
    },
    {
     "data": {
      "text/plain": [
       "Text(0, 0.5, 'displacement (mm)')"
      ]
     },
     "execution_count": 3,
     "metadata": {},
     "output_type": "execute_result"
    }
   ],
   "source": [
    "fig, ax = plt.subplots()\n",
    "control = float(m.control)\n",
    "t = m.time\n",
    "z = m.values\n",
    "(ln,) = ax.plot(t, z, label=f\"C: {control:.1f}\")\n",
    "ax.legend()\n",
    "ax.set_xlabel(\"time (ms)\")\n",
    "ax.set_ylabel(\"displacement (mm)\")\n"
   ]
  },
  {
   "cell_type": "code",
   "execution_count": 4,
   "metadata": {
    "tags": []
   },
   "outputs": [
    {
     "data": {
      "application/vnd.jupyter.widget-view+json": {
       "model_id": "3e454f729b6c44c58033e85422537170",
       "version_major": 2,
       "version_minor": 0
      },
      "text/plain": [
       "Canvas(toolbar=Toolbar(toolitems=[('Home', 'Reset original view', 'home', 'home'), ('Back', 'Back to previous …"
      ]
     },
     "metadata": {},
     "output_type": "display_data"
    },
    {
     "data": {
      "text/plain": [
       "Text(0, 0.5, 'displacement (mm)')"
      ]
     },
     "execution_count": 4,
     "metadata": {},
     "output_type": "execute_result"
    }
   ],
   "source": [
    "def plot_one(ax, m):\n",
    "    # pull what we want out of the xarray\n",
    "    control = float(m.control)\n",
    "    t = m.time\n",
    "    z = m.values\n",
    "\n",
    "    (ln,) = ax.plot(t, z, label=f\"C: {control:.1f}\")\n",
    "\n",
    "    return {\"raw\": ln}\n",
    "\n",
    "\n",
    "fig, ax = plt.subplots()\n",
    "plot_one(ax, d[0])\n",
    "plot_one(ax, d[-1])\n",
    "ax.legend()\n",
    "ax.set_xlabel(\"time (ms)\")\n",
    "ax.set_ylabel(\"displacement (mm)\")"
   ]
  },
  {
   "cell_type": "code",
   "execution_count": 5,
   "metadata": {},
   "outputs": [
    {
     "data": {
      "application/vnd.jupyter.widget-view+json": {
       "model_id": "8dcb0f0de91348a1b4f6997f8c55fa16",
       "version_major": 2,
       "version_minor": 0
      },
      "text/plain": [
       "Canvas(toolbar=Toolbar(toolitems=[('Home', 'Reset original view', 'home', 'home'), ('Back', 'Back to previous …"
      ]
     },
     "metadata": {},
     "output_type": "display_data"
    },
    {
     "data": {
      "text/plain": [
       "Text(0, 0.5, 'displacement (mm)')"
      ]
     },
     "execution_count": 5,
     "metadata": {},
     "output_type": "execute_result"
    }
   ],
   "source": [
    "def plot_one(ax, m, offset=0):\n",
    "    # pull what we want out of the xarray\n",
    "    control = float(m.coords[\"control\"])\n",
    "    t = m.time\n",
    "    z = m.values\n",
    "\n",
    "    (ln,) = ax.plot(t, z + offset, label=f\"C: {control:.1f}\")\n",
    "\n",
    "    return {\"raw\": ln}\n",
    "\n",
    "\n",
    "fig, ax = plt.subplots()\n",
    "plot_one(ax, d[0])\n",
    "plot_one(ax, d[10], offset=4)\n",
    "plot_one(ax, d[20], offset=8)\n",
    "ax.legend()\n",
    "ax.set_xlabel(\"time (ms)\")\n",
    "ax.set_ylabel(\"displacement (mm)\")\n"
   ]
  },
  {
   "cell_type": "code",
   "execution_count": 6,
   "metadata": {},
   "outputs": [],
   "source": [
    "from gen_data import fit"
   ]
  },
  {
   "cell_type": "code",
   "execution_count": 13,
   "metadata": {},
   "outputs": [
    {
     "name": "stdout",
     "output_type": "stream",
     "text": [
      "Params(A=2.0030151437510098, zeta=0.02981355396292427, omega=2.9997000776946217, phi=1.5725563949633639)\n",
      "(A=2.00, ζ=0.03, ω0=3.00, φ=1.57)\n",
      "$(A=2.00, \\zeta=0.03, \\omega_0=3.00,\\varphi=1.57)$\n"
     ]
    },
    {
     "data": {
      "text/latex": [
       "$(A=2.00, \\zeta=0.03, \\omega_0=3.00,\\varphi=1.57)$"
      ],
      "text/plain": [
       "Params(A=2.0030151437510098, zeta=0.02981355396292427, omega=2.9997000776946217, phi=1.5725563949633639)"
      ]
     },
     "execution_count": 13,
     "metadata": {},
     "output_type": "execute_result"
    }
   ],
   "source": [
    "fit_vals = fit(d[0])\n",
    "print(repr(fit_vals))\n",
    "print(fit_vals)\n",
    "print(fit_vals._repr_latex_())\n",
    "fit_vals"
   ]
  },
  {
   "cell_type": "code",
   "execution_count": 8,
   "metadata": {},
   "outputs": [
    {
     "data": {
      "application/vnd.jupyter.widget-view+json": {
       "model_id": "c4290a62fe914982ada65294b77025c4",
       "version_major": 2,
       "version_minor": 0
      },
      "text/plain": [
       "Canvas(toolbar=Toolbar(toolitems=[('Home', 'Reset original view', 'home', 'home'), ('Back', 'Back to previous …"
      ]
     },
     "metadata": {},
     "output_type": "display_data"
    },
    {
     "data": {
      "text/plain": [
       "Text(0, 0.5, 'displacement (mm)')"
      ]
     },
     "execution_count": 8,
     "metadata": {},
     "output_type": "execute_result"
    }
   ],
   "source": [
    "fig, ax = plt.subplots()\n",
    "ax.plot(m.time, fit_vals.sample(m.time), label=fit_vals._repr_latex_(), color='k')\n",
    "plt.gca().set_title(\n",
    "     r\"$A e^{-\\zeta\\omega_0t} \\sin\\left(\\sqrt{1 - \\zeta^2}\\omega_0t + \\varphi\\right)$\",\n",
    "     usetex=True,\n",
    ")\n",
    "\n",
    "plt.legend()\n",
    "ax.set_xlabel(\"time (ms)\")\n",
    "ax.set_ylabel(\"displacement (mm)\")\n"
   ]
  },
  {
   "cell_type": "code",
   "execution_count": 9,
   "metadata": {},
   "outputs": [],
   "source": [
    "def plot_one(ax, m, popt, offset=0):\n",
    "    # pull what we want out of the xarray\n",
    "    control = float(m.coords[\"control\"])\n",
    "    t = m.coords[\"time\"]\n",
    "    z = m.values\n",
    "\n",
    "    (ln,) = ax.plot(t, z + offset, label=f\"C: {control:.1f}\")\n",
    "    (fit,) = ax.plot(t, popt.sample(t) + offset, color=\"k\")\n",
    "    ann = ax.annotate(\n",
    "        f\"$\\\\zeta={popt.zeta:.2g}$, $\\\\omega_0={popt.omega:.2f}$\",\n",
    "        # units are (axes-fraction, data)\n",
    "        xy=(0.95, offset + 0.5),\n",
    "        xycoords=ax.get_yaxis_transform(),\n",
    "        # set the text alignment\n",
    "        ha=\"right\",\n",
    "        va=\"bottom\",\n",
    "    )\n",
    "    return {\"raw\": ln, \"fit\": fit, \"annotation\": ann}\n"
   ]
  },
  {
   "cell_type": "code",
   "execution_count": 10,
   "metadata": {},
   "outputs": [
    {
     "data": {
      "application/vnd.jupyter.widget-view+json": {
       "model_id": "d71512ad89554994b58a7138b991ca48",
       "version_major": 2,
       "version_minor": 0
      },
      "text/plain": [
       "Canvas(toolbar=Toolbar(toolitems=[('Home', 'Reset original view', 'home', 'home'), ('Back', 'Back to previous …"
      ]
     },
     "metadata": {},
     "output_type": "display_data"
    }
   ],
   "source": [
    "fig, ax = plt.subplots()\n",
    "plot_one(ax, d[0], fit(d[0]))\n",
    "plot_one(ax, d[10], fit(d[10]), offset=4)\n",
    "plot_one(ax, d[20], fit(d[20]), offset=8)\n",
    "ax.legend(ncol=3, loc=\"upper center\")\n",
    "ax.set_xlabel(\"time (ms)\")\n",
    "ax.set_ylabel(\"displacement (mm)\")\n",
    "plt.show()\n"
   ]
  },
  {
   "cell_type": "code",
   "execution_count": 11,
   "metadata": {},
   "outputs": [],
   "source": [
    "def plot_several(ax, d, fits):\n",
    "    out = []\n",
    "\n",
    "    for j, (m, popt) in enumerate(zip(d, fits)):\n",
    "        arts = plot_one(ax, m, popt, offset=3.75 * j)\n",
    "        out.append(arts)\n",
    "\n",
    "    ax.set_xlabel(\"time (ms)\")\n",
    "    ax.set_ylabel(\"displacement (mm)\")\n",
    "\n",
    "    return out\n"
   ]
  },
  {
   "cell_type": "code",
   "execution_count": 15,
   "metadata": {},
   "outputs": [
    {
     "data": {
      "application/vnd.jupyter.widget-view+json": {
       "model_id": "50f55f44762e4e4bb8f87d83e40cb916",
       "version_major": 2,
       "version_minor": 0
      },
      "text/plain": [
       "Canvas(toolbar=Toolbar(toolitems=[('Home', 'Reset original view', 'home', 'home'), ('Back', 'Back to previous …"
      ]
     },
     "metadata": {},
     "output_type": "display_data"
    },
    {
     "data": {
      "text/plain": [
       "<matplotlib.legend.Legend at 0x7fcd73163ac0>"
      ]
     },
     "execution_count": 15,
     "metadata": {},
     "output_type": "execute_result"
    }
   ],
   "source": [
    "fig, ax = plt.subplots()\n",
    "indx = [0, 10, 24]\n",
    "plot_several(ax, d[indx], [fit(d[i]) for i in indx])\n",
    "ax.legend(ncol=3, loc=\"upper center\")"
   ]
  },
  {
   "cell_type": "code",
   "execution_count": null,
   "metadata": {},
   "outputs": [],
   "source": []
  }
 ],
 "metadata": {
  "kernelspec": {
   "display_name": "Python 3",
   "language": "python",
   "name": "python3"
  },
  "language_info": {
   "codemirror_mode": {
    "name": "ipython",
    "version": 3
   },
   "file_extension": ".py",
   "mimetype": "text/x-python",
   "name": "python",
   "nbconvert_exporter": "python",
   "pygments_lexer": "ipython3",
   "version": "3.9.2"
  }
 },
 "nbformat": 4,
 "nbformat_minor": 4
}
