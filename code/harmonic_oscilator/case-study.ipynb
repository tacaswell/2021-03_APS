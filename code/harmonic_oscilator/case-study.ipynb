{
 "cells": [
  {
   "cell_type": "code",
   "execution_count": 1,
   "metadata": {},
   "outputs": [],
   "source": [
    "# interactive figures, requires ipypml!\n",
    "%matplotlib widget\n",
    "import matplotlib.pyplot as plt"
   ]
  },
  {
   "cell_type": "code",
   "execution_count": 2,
   "metadata": {},
   "outputs": [],
   "source": [
    "import numpy as np\n",
    "import pandas as pd\n",
    "from gen_data import get_data, fit"
   ]
  },
  {
   "cell_type": "code",
   "execution_count": 3,
   "metadata": {},
   "outputs": [
    {
     "data": {
      "text/html": [
       "<div><svg style=\"position: absolute; width: 0; height: 0; overflow: hidden\">\n",
       "<defs>\n",
       "<symbol id=\"icon-database\" viewBox=\"0 0 32 32\">\n",
       "<path d=\"M16 0c-8.837 0-16 2.239-16 5v4c0 2.761 7.163 5 16 5s16-2.239 16-5v-4c0-2.761-7.163-5-16-5z\"></path>\n",
       "<path d=\"M16 17c-8.837 0-16-2.239-16-5v6c0 2.761 7.163 5 16 5s16-2.239 16-5v-6c0 2.761-7.163 5-16 5z\"></path>\n",
       "<path d=\"M16 26c-8.837 0-16-2.239-16-5v6c0 2.761 7.163 5 16 5s16-2.239 16-5v-6c0 2.761-7.163 5-16 5z\"></path>\n",
       "</symbol>\n",
       "<symbol id=\"icon-file-text2\" viewBox=\"0 0 32 32\">\n",
       "<path d=\"M28.681 7.159c-0.694-0.947-1.662-2.053-2.724-3.116s-2.169-2.030-3.116-2.724c-1.612-1.182-2.393-1.319-2.841-1.319h-15.5c-1.378 0-2.5 1.121-2.5 2.5v27c0 1.378 1.122 2.5 2.5 2.5h23c1.378 0 2.5-1.122 2.5-2.5v-19.5c0-0.448-0.137-1.23-1.319-2.841zM24.543 5.457c0.959 0.959 1.712 1.825 2.268 2.543h-4.811v-4.811c0.718 0.556 1.584 1.309 2.543 2.268zM28 29.5c0 0.271-0.229 0.5-0.5 0.5h-23c-0.271 0-0.5-0.229-0.5-0.5v-27c0-0.271 0.229-0.5 0.5-0.5 0 0 15.499-0 15.5 0v7c0 0.552 0.448 1 1 1h7v19.5z\"></path>\n",
       "<path d=\"M23 26h-14c-0.552 0-1-0.448-1-1s0.448-1 1-1h14c0.552 0 1 0.448 1 1s-0.448 1-1 1z\"></path>\n",
       "<path d=\"M23 22h-14c-0.552 0-1-0.448-1-1s0.448-1 1-1h14c0.552 0 1 0.448 1 1s-0.448 1-1 1z\"></path>\n",
       "<path d=\"M23 18h-14c-0.552 0-1-0.448-1-1s0.448-1 1-1h14c0.552 0 1 0.448 1 1s-0.448 1-1 1z\"></path>\n",
       "</symbol>\n",
       "</defs>\n",
       "</svg>\n",
       "<style>/* CSS stylesheet for displaying xarray objects in jupyterlab.\n",
       " *\n",
       " */\n",
       "\n",
       ":root {\n",
       "  --xr-font-color0: var(--jp-content-font-color0, rgba(0, 0, 0, 1));\n",
       "  --xr-font-color2: var(--jp-content-font-color2, rgba(0, 0, 0, 0.54));\n",
       "  --xr-font-color3: var(--jp-content-font-color3, rgba(0, 0, 0, 0.38));\n",
       "  --xr-border-color: var(--jp-border-color2, #e0e0e0);\n",
       "  --xr-disabled-color: var(--jp-layout-color3, #bdbdbd);\n",
       "  --xr-background-color: var(--jp-layout-color0, white);\n",
       "  --xr-background-color-row-even: var(--jp-layout-color1, white);\n",
       "  --xr-background-color-row-odd: var(--jp-layout-color2, #eeeeee);\n",
       "}\n",
       "\n",
       "html[theme=dark],\n",
       "body.vscode-dark {\n",
       "  --xr-font-color0: rgba(255, 255, 255, 1);\n",
       "  --xr-font-color2: rgba(255, 255, 255, 0.54);\n",
       "  --xr-font-color3: rgba(255, 255, 255, 0.38);\n",
       "  --xr-border-color: #1F1F1F;\n",
       "  --xr-disabled-color: #515151;\n",
       "  --xr-background-color: #111111;\n",
       "  --xr-background-color-row-even: #111111;\n",
       "  --xr-background-color-row-odd: #313131;\n",
       "}\n",
       "\n",
       ".xr-wrap {\n",
       "  display: block;\n",
       "  min-width: 300px;\n",
       "  max-width: 700px;\n",
       "}\n",
       "\n",
       ".xr-text-repr-fallback {\n",
       "  /* fallback to plain text repr when CSS is not injected (untrusted notebook) */\n",
       "  display: none;\n",
       "}\n",
       "\n",
       ".xr-header {\n",
       "  padding-top: 6px;\n",
       "  padding-bottom: 6px;\n",
       "  margin-bottom: 4px;\n",
       "  border-bottom: solid 1px var(--xr-border-color);\n",
       "}\n",
       "\n",
       ".xr-header > div,\n",
       ".xr-header > ul {\n",
       "  display: inline;\n",
       "  margin-top: 0;\n",
       "  margin-bottom: 0;\n",
       "}\n",
       "\n",
       ".xr-obj-type,\n",
       ".xr-array-name {\n",
       "  margin-left: 2px;\n",
       "  margin-right: 10px;\n",
       "}\n",
       "\n",
       ".xr-obj-type {\n",
       "  color: var(--xr-font-color2);\n",
       "}\n",
       "\n",
       ".xr-sections {\n",
       "  padding-left: 0 !important;\n",
       "  display: grid;\n",
       "  grid-template-columns: 150px auto auto 1fr 20px 20px;\n",
       "}\n",
       "\n",
       ".xr-section-item {\n",
       "  display: contents;\n",
       "}\n",
       "\n",
       ".xr-section-item input {\n",
       "  display: none;\n",
       "}\n",
       "\n",
       ".xr-section-item input + label {\n",
       "  color: var(--xr-disabled-color);\n",
       "}\n",
       "\n",
       ".xr-section-item input:enabled + label {\n",
       "  cursor: pointer;\n",
       "  color: var(--xr-font-color2);\n",
       "}\n",
       "\n",
       ".xr-section-item input:enabled + label:hover {\n",
       "  color: var(--xr-font-color0);\n",
       "}\n",
       "\n",
       ".xr-section-summary {\n",
       "  grid-column: 1;\n",
       "  color: var(--xr-font-color2);\n",
       "  font-weight: 500;\n",
       "}\n",
       "\n",
       ".xr-section-summary > span {\n",
       "  display: inline-block;\n",
       "  padding-left: 0.5em;\n",
       "}\n",
       "\n",
       ".xr-section-summary-in:disabled + label {\n",
       "  color: var(--xr-font-color2);\n",
       "}\n",
       "\n",
       ".xr-section-summary-in + label:before {\n",
       "  display: inline-block;\n",
       "  content: '►';\n",
       "  font-size: 11px;\n",
       "  width: 15px;\n",
       "  text-align: center;\n",
       "}\n",
       "\n",
       ".xr-section-summary-in:disabled + label:before {\n",
       "  color: var(--xr-disabled-color);\n",
       "}\n",
       "\n",
       ".xr-section-summary-in:checked + label:before {\n",
       "  content: '▼';\n",
       "}\n",
       "\n",
       ".xr-section-summary-in:checked + label > span {\n",
       "  display: none;\n",
       "}\n",
       "\n",
       ".xr-section-summary,\n",
       ".xr-section-inline-details {\n",
       "  padding-top: 4px;\n",
       "  padding-bottom: 4px;\n",
       "}\n",
       "\n",
       ".xr-section-inline-details {\n",
       "  grid-column: 2 / -1;\n",
       "}\n",
       "\n",
       ".xr-section-details {\n",
       "  display: none;\n",
       "  grid-column: 1 / -1;\n",
       "  margin-bottom: 5px;\n",
       "}\n",
       "\n",
       ".xr-section-summary-in:checked ~ .xr-section-details {\n",
       "  display: contents;\n",
       "}\n",
       "\n",
       ".xr-array-wrap {\n",
       "  grid-column: 1 / -1;\n",
       "  display: grid;\n",
       "  grid-template-columns: 20px auto;\n",
       "}\n",
       "\n",
       ".xr-array-wrap > label {\n",
       "  grid-column: 1;\n",
       "  vertical-align: top;\n",
       "}\n",
       "\n",
       ".xr-preview {\n",
       "  color: var(--xr-font-color3);\n",
       "}\n",
       "\n",
       ".xr-array-preview,\n",
       ".xr-array-data {\n",
       "  padding: 0 5px !important;\n",
       "  grid-column: 2;\n",
       "}\n",
       "\n",
       ".xr-array-data,\n",
       ".xr-array-in:checked ~ .xr-array-preview {\n",
       "  display: none;\n",
       "}\n",
       "\n",
       ".xr-array-in:checked ~ .xr-array-data,\n",
       ".xr-array-preview {\n",
       "  display: inline-block;\n",
       "}\n",
       "\n",
       ".xr-dim-list {\n",
       "  display: inline-block !important;\n",
       "  list-style: none;\n",
       "  padding: 0 !important;\n",
       "  margin: 0;\n",
       "}\n",
       "\n",
       ".xr-dim-list li {\n",
       "  display: inline-block;\n",
       "  padding: 0;\n",
       "  margin: 0;\n",
       "}\n",
       "\n",
       ".xr-dim-list:before {\n",
       "  content: '(';\n",
       "}\n",
       "\n",
       ".xr-dim-list:after {\n",
       "  content: ')';\n",
       "}\n",
       "\n",
       ".xr-dim-list li:not(:last-child):after {\n",
       "  content: ',';\n",
       "  padding-right: 5px;\n",
       "}\n",
       "\n",
       ".xr-has-index {\n",
       "  font-weight: bold;\n",
       "}\n",
       "\n",
       ".xr-var-list,\n",
       ".xr-var-item {\n",
       "  display: contents;\n",
       "}\n",
       "\n",
       ".xr-var-item > div,\n",
       ".xr-var-item label,\n",
       ".xr-var-item > .xr-var-name span {\n",
       "  background-color: var(--xr-background-color-row-even);\n",
       "  margin-bottom: 0;\n",
       "}\n",
       "\n",
       ".xr-var-item > .xr-var-name:hover span {\n",
       "  padding-right: 5px;\n",
       "}\n",
       "\n",
       ".xr-var-list > li:nth-child(odd) > div,\n",
       ".xr-var-list > li:nth-child(odd) > label,\n",
       ".xr-var-list > li:nth-child(odd) > .xr-var-name span {\n",
       "  background-color: var(--xr-background-color-row-odd);\n",
       "}\n",
       "\n",
       ".xr-var-name {\n",
       "  grid-column: 1;\n",
       "}\n",
       "\n",
       ".xr-var-dims {\n",
       "  grid-column: 2;\n",
       "}\n",
       "\n",
       ".xr-var-dtype {\n",
       "  grid-column: 3;\n",
       "  text-align: right;\n",
       "  color: var(--xr-font-color2);\n",
       "}\n",
       "\n",
       ".xr-var-preview {\n",
       "  grid-column: 4;\n",
       "}\n",
       "\n",
       ".xr-var-name,\n",
       ".xr-var-dims,\n",
       ".xr-var-dtype,\n",
       ".xr-preview,\n",
       ".xr-attrs dt {\n",
       "  white-space: nowrap;\n",
       "  overflow: hidden;\n",
       "  text-overflow: ellipsis;\n",
       "  padding-right: 10px;\n",
       "}\n",
       "\n",
       ".xr-var-name:hover,\n",
       ".xr-var-dims:hover,\n",
       ".xr-var-dtype:hover,\n",
       ".xr-attrs dt:hover {\n",
       "  overflow: visible;\n",
       "  width: auto;\n",
       "  z-index: 1;\n",
       "}\n",
       "\n",
       ".xr-var-attrs,\n",
       ".xr-var-data {\n",
       "  display: none;\n",
       "  background-color: var(--xr-background-color) !important;\n",
       "  padding-bottom: 5px !important;\n",
       "}\n",
       "\n",
       ".xr-var-attrs-in:checked ~ .xr-var-attrs,\n",
       ".xr-var-data-in:checked ~ .xr-var-data {\n",
       "  display: block;\n",
       "}\n",
       "\n",
       ".xr-var-data > table {\n",
       "  float: right;\n",
       "}\n",
       "\n",
       ".xr-var-name span,\n",
       ".xr-var-data,\n",
       ".xr-attrs {\n",
       "  padding-left: 25px !important;\n",
       "}\n",
       "\n",
       ".xr-attrs,\n",
       ".xr-var-attrs,\n",
       ".xr-var-data {\n",
       "  grid-column: 1 / -1;\n",
       "}\n",
       "\n",
       "dl.xr-attrs {\n",
       "  padding: 0;\n",
       "  margin: 0;\n",
       "  display: grid;\n",
       "  grid-template-columns: 125px auto;\n",
       "}\n",
       "\n",
       ".xr-attrs dt,\n",
       ".xr-attrs dd {\n",
       "  padding: 0;\n",
       "  margin: 0;\n",
       "  float: left;\n",
       "  padding-right: 10px;\n",
       "  width: auto;\n",
       "}\n",
       "\n",
       ".xr-attrs dt {\n",
       "  font-weight: normal;\n",
       "  grid-column: 1;\n",
       "}\n",
       "\n",
       ".xr-attrs dt:hover span {\n",
       "  display: inline-block;\n",
       "  background: var(--xr-background-color);\n",
       "  padding-right: 10px;\n",
       "}\n",
       "\n",
       ".xr-attrs dd {\n",
       "  grid-column: 2;\n",
       "  white-space: pre-wrap;\n",
       "  word-break: break-all;\n",
       "}\n",
       "\n",
       ".xr-icon-database,\n",
       ".xr-icon-file-text2 {\n",
       "  display: inline-block;\n",
       "  vertical-align: middle;\n",
       "  width: 1em;\n",
       "  height: 1.5em !important;\n",
       "  stroke-width: 0;\n",
       "  stroke: currentColor;\n",
       "  fill: currentColor;\n",
       "}\n",
       "</style><pre class='xr-text-repr-fallback'>&lt;xarray.DataArray (control: 25, time: 4112)&gt;\n",
       "array([[ 1.98606719,  1.99543536,  1.97105165, ...,  0.06721466,\n",
       "         0.01622443, -0.01527595],\n",
       "       [ 2.00662585,  1.99671981,  1.98191412, ..., -0.01417291,\n",
       "         0.06389219, -0.04610717],\n",
       "       [ 1.94324607,  2.08638654,  2.01925267, ...,  0.04242672,\n",
       "        -0.01418673,  0.03341085],\n",
       "       ...,\n",
       "       [ 2.04979997,  2.03216639,  2.03112491, ..., -0.08414144,\n",
       "         0.02488465, -0.03114146],\n",
       "       [ 1.96096833,  2.00519296,  1.95848007, ..., -0.0852745 ,\n",
       "        -0.00315458,  0.06245407],\n",
       "       [ 2.00292556,  1.88319855,  1.92630386, ..., -0.03551658,\n",
       "         0.03480358, -0.03723755]])\n",
       "Coordinates:\n",
       "  * control  (control) float64 15.0 15.62 16.25 16.88 ... 28.12 28.75 29.38 30.0\n",
       "  * time     (time) float64 0.0 0.007642 0.01528 0.02293 ... 31.4 31.41 31.42</pre><div class='xr-wrap' hidden><div class='xr-header'><div class='xr-obj-type'>xarray.DataArray</div><div class='xr-array-name'></div><ul class='xr-dim-list'><li><span class='xr-has-index'>control</span>: 25</li><li><span class='xr-has-index'>time</span>: 4112</li></ul></div><ul class='xr-sections'><li class='xr-section-item'><div class='xr-array-wrap'><input id='section-1559b22b-1f7e-4c2a-98ce-508171df7e19' class='xr-array-in' type='checkbox' checked><label for='section-1559b22b-1f7e-4c2a-98ce-508171df7e19' title='Show/hide data repr'><svg class='icon xr-icon-database'><use xlink:href='#icon-database'></use></svg></label><div class='xr-array-preview xr-preview'><span>1.986 1.995 1.971 1.979 2.048 ... -0.03445 -0.03552 0.0348 -0.03724</span></div><div class='xr-array-data'><pre>array([[ 1.98606719,  1.99543536,  1.97105165, ...,  0.06721466,\n",
       "         0.01622443, -0.01527595],\n",
       "       [ 2.00662585,  1.99671981,  1.98191412, ..., -0.01417291,\n",
       "         0.06389219, -0.04610717],\n",
       "       [ 1.94324607,  2.08638654,  2.01925267, ...,  0.04242672,\n",
       "        -0.01418673,  0.03341085],\n",
       "       ...,\n",
       "       [ 2.04979997,  2.03216639,  2.03112491, ..., -0.08414144,\n",
       "         0.02488465, -0.03114146],\n",
       "       [ 1.96096833,  2.00519296,  1.95848007, ..., -0.0852745 ,\n",
       "        -0.00315458,  0.06245407],\n",
       "       [ 2.00292556,  1.88319855,  1.92630386, ..., -0.03551658,\n",
       "         0.03480358, -0.03723755]])</pre></div></div></li><li class='xr-section-item'><input id='section-7381fece-9caa-4dcf-bf3c-7a08bd979922' class='xr-section-summary-in' type='checkbox'  checked><label for='section-7381fece-9caa-4dcf-bf3c-7a08bd979922' class='xr-section-summary' >Coordinates: <span>(2)</span></label><div class='xr-section-inline-details'></div><div class='xr-section-details'><ul class='xr-var-list'><li class='xr-var-item'><div class='xr-var-name'><span class='xr-has-index'>control</span></div><div class='xr-var-dims'>(control)</div><div class='xr-var-dtype'>float64</div><div class='xr-var-preview xr-preview'>15.0 15.62 16.25 ... 29.38 30.0</div><input id='attrs-25097fe6-c488-400b-b5a0-395f7b452385' class='xr-var-attrs-in' type='checkbox' disabled><label for='attrs-25097fe6-c488-400b-b5a0-395f7b452385' title='Show/Hide attributes'><svg class='icon xr-icon-file-text2'><use xlink:href='#icon-file-text2'></use></svg></label><input id='data-2e683c7a-aba7-4900-92fc-732a4068a000' class='xr-var-data-in' type='checkbox'><label for='data-2e683c7a-aba7-4900-92fc-732a4068a000' title='Show/Hide data repr'><svg class='icon xr-icon-database'><use xlink:href='#icon-database'></use></svg></label><div class='xr-var-attrs'><dl class='xr-attrs'></dl></div><div class='xr-var-data'><pre>array([15.   , 15.625, 16.25 , 16.875, 17.5  , 18.125, 18.75 , 19.375, 20.   ,\n",
       "       20.625, 21.25 , 21.875, 22.5  , 23.125, 23.75 , 24.375, 25.   , 25.625,\n",
       "       26.25 , 26.875, 27.5  , 28.125, 28.75 , 29.375, 30.   ])</pre></div></li><li class='xr-var-item'><div class='xr-var-name'><span class='xr-has-index'>time</span></div><div class='xr-var-dims'>(time)</div><div class='xr-var-dtype'>float64</div><div class='xr-var-preview xr-preview'>0.0 0.007642 ... 31.41 31.42</div><input id='attrs-84011999-7cb7-4fac-932d-f2b8ffa3a4bc' class='xr-var-attrs-in' type='checkbox' disabled><label for='attrs-84011999-7cb7-4fac-932d-f2b8ffa3a4bc' title='Show/Hide attributes'><svg class='icon xr-icon-file-text2'><use xlink:href='#icon-file-text2'></use></svg></label><input id='data-bf167a65-a1ab-4276-acb2-91ad09c3cdeb' class='xr-var-data-in' type='checkbox'><label for='data-bf167a65-a1ab-4276-acb2-91ad09c3cdeb' title='Show/Hide data repr'><svg class='icon xr-icon-database'><use xlink:href='#icon-database'></use></svg></label><div class='xr-var-attrs'><dl class='xr-attrs'></dl></div><div class='xr-var-data'><pre>array([0.000000e+00, 7.641918e-03, 1.528384e-02, ..., 3.140064e+01,\n",
       "       3.140828e+01, 3.141593e+01])</pre></div></li></ul></div></li><li class='xr-section-item'><input id='section-3ced771e-2b81-48d0-ae62-0033991c7ca4' class='xr-section-summary-in' type='checkbox' disabled ><label for='section-3ced771e-2b81-48d0-ae62-0033991c7ca4' class='xr-section-summary'  title='Expand/collapse section'>Attributes: <span>(0)</span></label><div class='xr-section-inline-details'></div><div class='xr-section-details'><dl class='xr-attrs'></dl></div></li></ul></div></div>"
      ],
      "text/plain": [
       "<xarray.DataArray (control: 25, time: 4112)>\n",
       "array([[ 1.98606719,  1.99543536,  1.97105165, ...,  0.06721466,\n",
       "         0.01622443, -0.01527595],\n",
       "       [ 2.00662585,  1.99671981,  1.98191412, ..., -0.01417291,\n",
       "         0.06389219, -0.04610717],\n",
       "       [ 1.94324607,  2.08638654,  2.01925267, ...,  0.04242672,\n",
       "        -0.01418673,  0.03341085],\n",
       "       ...,\n",
       "       [ 2.04979997,  2.03216639,  2.03112491, ..., -0.08414144,\n",
       "         0.02488465, -0.03114146],\n",
       "       [ 1.96096833,  2.00519296,  1.95848007, ..., -0.0852745 ,\n",
       "        -0.00315458,  0.06245407],\n",
       "       [ 2.00292556,  1.88319855,  1.92630386, ..., -0.03551658,\n",
       "         0.03480358, -0.03723755]])\n",
       "Coordinates:\n",
       "  * control  (control) float64 15.0 15.62 16.25 16.88 ... 28.12 28.75 29.38 30.0\n",
       "  * time     (time) float64 0.0 0.007642 0.01528 0.02293 ... 31.4 31.41 31.42"
      ]
     },
     "execution_count": 3,
     "metadata": {},
     "output_type": "execute_result"
    }
   ],
   "source": [
    "d = get_data(25)\n",
    "d"
   ]
  },
  {
   "cell_type": "code",
   "execution_count": 5,
   "metadata": {
    "tags": []
   },
   "outputs": [
    {
     "data": {
      "application/vnd.jupyter.widget-view+json": {
       "model_id": "a37a9a4f9cfb48e59652b962aea2cdad",
       "version_major": 2,
       "version_minor": 0
      },
      "text/plain": [
       "Canvas(toolbar=Toolbar(toolitems=[('Home', 'Reset original view', 'home', 'home'), ('Back', 'Back to previous …"
      ]
     },
     "metadata": {},
     "output_type": "display_data"
    },
    {
     "data": {
      "text/plain": [
       "[<matplotlib.lines.Line2D at 0x7f159f211550>,\n",
       " <matplotlib.lines.Line2D at 0x7f159f21a4c0>,\n",
       " <matplotlib.lines.Line2D at 0x7f159f21a4f0>,\n",
       " <matplotlib.lines.Line2D at 0x7f159f21a5e0>,\n",
       " <matplotlib.lines.Line2D at 0x7f159f21a700>,\n",
       " <matplotlib.lines.Line2D at 0x7f159f21a550>,\n",
       " <matplotlib.lines.Line2D at 0x7f159f21a880>,\n",
       " <matplotlib.lines.Line2D at 0x7f159f21a790>,\n",
       " <matplotlib.lines.Line2D at 0x7f159f21a970>,\n",
       " <matplotlib.lines.Line2D at 0x7f159f21aa30>,\n",
       " <matplotlib.lines.Line2D at 0x7f159ee6cfd0>,\n",
       " <matplotlib.lines.Line2D at 0x7f159f21aaf0>,\n",
       " <matplotlib.lines.Line2D at 0x7f159f21ac40>,\n",
       " <matplotlib.lines.Line2D at 0x7f159f21ad00>,\n",
       " <matplotlib.lines.Line2D at 0x7f159f21adc0>,\n",
       " <matplotlib.lines.Line2D at 0x7f159f21ae80>,\n",
       " <matplotlib.lines.Line2D at 0x7f159f21af40>,\n",
       " <matplotlib.lines.Line2D at 0x7f159f1a0040>,\n",
       " <matplotlib.lines.Line2D at 0x7f159f1a0100>,\n",
       " <matplotlib.lines.Line2D at 0x7f159f1a01c0>,\n",
       " <matplotlib.lines.Line2D at 0x7f159f1a0280>,\n",
       " <matplotlib.lines.Line2D at 0x7f159f1a0340>,\n",
       " <matplotlib.lines.Line2D at 0x7f159f1a0400>,\n",
       " <matplotlib.lines.Line2D at 0x7f159f1a04c0>,\n",
       " <matplotlib.lines.Line2D at 0x7f159f1a0580>]"
      ]
     },
     "execution_count": 5,
     "metadata": {},
     "output_type": "execute_result"
    }
   ],
   "source": [
    "fig, ax = plt.subplots()\n",
    "ax.plot(d.T)"
   ]
  },
  {
   "cell_type": "code",
   "execution_count": 6,
   "metadata": {},
   "outputs": [
    {
     "data": {
      "text/html": [
       "<div><svg style=\"position: absolute; width: 0; height: 0; overflow: hidden\">\n",
       "<defs>\n",
       "<symbol id=\"icon-database\" viewBox=\"0 0 32 32\">\n",
       "<path d=\"M16 0c-8.837 0-16 2.239-16 5v4c0 2.761 7.163 5 16 5s16-2.239 16-5v-4c0-2.761-7.163-5-16-5z\"></path>\n",
       "<path d=\"M16 17c-8.837 0-16-2.239-16-5v6c0 2.761 7.163 5 16 5s16-2.239 16-5v-6c0 2.761-7.163 5-16 5z\"></path>\n",
       "<path d=\"M16 26c-8.837 0-16-2.239-16-5v6c0 2.761 7.163 5 16 5s16-2.239 16-5v-6c0 2.761-7.163 5-16 5z\"></path>\n",
       "</symbol>\n",
       "<symbol id=\"icon-file-text2\" viewBox=\"0 0 32 32\">\n",
       "<path d=\"M28.681 7.159c-0.694-0.947-1.662-2.053-2.724-3.116s-2.169-2.030-3.116-2.724c-1.612-1.182-2.393-1.319-2.841-1.319h-15.5c-1.378 0-2.5 1.121-2.5 2.5v27c0 1.378 1.122 2.5 2.5 2.5h23c1.378 0 2.5-1.122 2.5-2.5v-19.5c0-0.448-0.137-1.23-1.319-2.841zM24.543 5.457c0.959 0.959 1.712 1.825 2.268 2.543h-4.811v-4.811c0.718 0.556 1.584 1.309 2.543 2.268zM28 29.5c0 0.271-0.229 0.5-0.5 0.5h-23c-0.271 0-0.5-0.229-0.5-0.5v-27c0-0.271 0.229-0.5 0.5-0.5 0 0 15.499-0 15.5 0v7c0 0.552 0.448 1 1 1h7v19.5z\"></path>\n",
       "<path d=\"M23 26h-14c-0.552 0-1-0.448-1-1s0.448-1 1-1h14c0.552 0 1 0.448 1 1s-0.448 1-1 1z\"></path>\n",
       "<path d=\"M23 22h-14c-0.552 0-1-0.448-1-1s0.448-1 1-1h14c0.552 0 1 0.448 1 1s-0.448 1-1 1z\"></path>\n",
       "<path d=\"M23 18h-14c-0.552 0-1-0.448-1-1s0.448-1 1-1h14c0.552 0 1 0.448 1 1s-0.448 1-1 1z\"></path>\n",
       "</symbol>\n",
       "</defs>\n",
       "</svg>\n",
       "<style>/* CSS stylesheet for displaying xarray objects in jupyterlab.\n",
       " *\n",
       " */\n",
       "\n",
       ":root {\n",
       "  --xr-font-color0: var(--jp-content-font-color0, rgba(0, 0, 0, 1));\n",
       "  --xr-font-color2: var(--jp-content-font-color2, rgba(0, 0, 0, 0.54));\n",
       "  --xr-font-color3: var(--jp-content-font-color3, rgba(0, 0, 0, 0.38));\n",
       "  --xr-border-color: var(--jp-border-color2, #e0e0e0);\n",
       "  --xr-disabled-color: var(--jp-layout-color3, #bdbdbd);\n",
       "  --xr-background-color: var(--jp-layout-color0, white);\n",
       "  --xr-background-color-row-even: var(--jp-layout-color1, white);\n",
       "  --xr-background-color-row-odd: var(--jp-layout-color2, #eeeeee);\n",
       "}\n",
       "\n",
       "html[theme=dark],\n",
       "body.vscode-dark {\n",
       "  --xr-font-color0: rgba(255, 255, 255, 1);\n",
       "  --xr-font-color2: rgba(255, 255, 255, 0.54);\n",
       "  --xr-font-color3: rgba(255, 255, 255, 0.38);\n",
       "  --xr-border-color: #1F1F1F;\n",
       "  --xr-disabled-color: #515151;\n",
       "  --xr-background-color: #111111;\n",
       "  --xr-background-color-row-even: #111111;\n",
       "  --xr-background-color-row-odd: #313131;\n",
       "}\n",
       "\n",
       ".xr-wrap {\n",
       "  display: block;\n",
       "  min-width: 300px;\n",
       "  max-width: 700px;\n",
       "}\n",
       "\n",
       ".xr-text-repr-fallback {\n",
       "  /* fallback to plain text repr when CSS is not injected (untrusted notebook) */\n",
       "  display: none;\n",
       "}\n",
       "\n",
       ".xr-header {\n",
       "  padding-top: 6px;\n",
       "  padding-bottom: 6px;\n",
       "  margin-bottom: 4px;\n",
       "  border-bottom: solid 1px var(--xr-border-color);\n",
       "}\n",
       "\n",
       ".xr-header > div,\n",
       ".xr-header > ul {\n",
       "  display: inline;\n",
       "  margin-top: 0;\n",
       "  margin-bottom: 0;\n",
       "}\n",
       "\n",
       ".xr-obj-type,\n",
       ".xr-array-name {\n",
       "  margin-left: 2px;\n",
       "  margin-right: 10px;\n",
       "}\n",
       "\n",
       ".xr-obj-type {\n",
       "  color: var(--xr-font-color2);\n",
       "}\n",
       "\n",
       ".xr-sections {\n",
       "  padding-left: 0 !important;\n",
       "  display: grid;\n",
       "  grid-template-columns: 150px auto auto 1fr 20px 20px;\n",
       "}\n",
       "\n",
       ".xr-section-item {\n",
       "  display: contents;\n",
       "}\n",
       "\n",
       ".xr-section-item input {\n",
       "  display: none;\n",
       "}\n",
       "\n",
       ".xr-section-item input + label {\n",
       "  color: var(--xr-disabled-color);\n",
       "}\n",
       "\n",
       ".xr-section-item input:enabled + label {\n",
       "  cursor: pointer;\n",
       "  color: var(--xr-font-color2);\n",
       "}\n",
       "\n",
       ".xr-section-item input:enabled + label:hover {\n",
       "  color: var(--xr-font-color0);\n",
       "}\n",
       "\n",
       ".xr-section-summary {\n",
       "  grid-column: 1;\n",
       "  color: var(--xr-font-color2);\n",
       "  font-weight: 500;\n",
       "}\n",
       "\n",
       ".xr-section-summary > span {\n",
       "  display: inline-block;\n",
       "  padding-left: 0.5em;\n",
       "}\n",
       "\n",
       ".xr-section-summary-in:disabled + label {\n",
       "  color: var(--xr-font-color2);\n",
       "}\n",
       "\n",
       ".xr-section-summary-in + label:before {\n",
       "  display: inline-block;\n",
       "  content: '►';\n",
       "  font-size: 11px;\n",
       "  width: 15px;\n",
       "  text-align: center;\n",
       "}\n",
       "\n",
       ".xr-section-summary-in:disabled + label:before {\n",
       "  color: var(--xr-disabled-color);\n",
       "}\n",
       "\n",
       ".xr-section-summary-in:checked + label:before {\n",
       "  content: '▼';\n",
       "}\n",
       "\n",
       ".xr-section-summary-in:checked + label > span {\n",
       "  display: none;\n",
       "}\n",
       "\n",
       ".xr-section-summary,\n",
       ".xr-section-inline-details {\n",
       "  padding-top: 4px;\n",
       "  padding-bottom: 4px;\n",
       "}\n",
       "\n",
       ".xr-section-inline-details {\n",
       "  grid-column: 2 / -1;\n",
       "}\n",
       "\n",
       ".xr-section-details {\n",
       "  display: none;\n",
       "  grid-column: 1 / -1;\n",
       "  margin-bottom: 5px;\n",
       "}\n",
       "\n",
       ".xr-section-summary-in:checked ~ .xr-section-details {\n",
       "  display: contents;\n",
       "}\n",
       "\n",
       ".xr-array-wrap {\n",
       "  grid-column: 1 / -1;\n",
       "  display: grid;\n",
       "  grid-template-columns: 20px auto;\n",
       "}\n",
       "\n",
       ".xr-array-wrap > label {\n",
       "  grid-column: 1;\n",
       "  vertical-align: top;\n",
       "}\n",
       "\n",
       ".xr-preview {\n",
       "  color: var(--xr-font-color3);\n",
       "}\n",
       "\n",
       ".xr-array-preview,\n",
       ".xr-array-data {\n",
       "  padding: 0 5px !important;\n",
       "  grid-column: 2;\n",
       "}\n",
       "\n",
       ".xr-array-data,\n",
       ".xr-array-in:checked ~ .xr-array-preview {\n",
       "  display: none;\n",
       "}\n",
       "\n",
       ".xr-array-in:checked ~ .xr-array-data,\n",
       ".xr-array-preview {\n",
       "  display: inline-block;\n",
       "}\n",
       "\n",
       ".xr-dim-list {\n",
       "  display: inline-block !important;\n",
       "  list-style: none;\n",
       "  padding: 0 !important;\n",
       "  margin: 0;\n",
       "}\n",
       "\n",
       ".xr-dim-list li {\n",
       "  display: inline-block;\n",
       "  padding: 0;\n",
       "  margin: 0;\n",
       "}\n",
       "\n",
       ".xr-dim-list:before {\n",
       "  content: '(';\n",
       "}\n",
       "\n",
       ".xr-dim-list:after {\n",
       "  content: ')';\n",
       "}\n",
       "\n",
       ".xr-dim-list li:not(:last-child):after {\n",
       "  content: ',';\n",
       "  padding-right: 5px;\n",
       "}\n",
       "\n",
       ".xr-has-index {\n",
       "  font-weight: bold;\n",
       "}\n",
       "\n",
       ".xr-var-list,\n",
       ".xr-var-item {\n",
       "  display: contents;\n",
       "}\n",
       "\n",
       ".xr-var-item > div,\n",
       ".xr-var-item label,\n",
       ".xr-var-item > .xr-var-name span {\n",
       "  background-color: var(--xr-background-color-row-even);\n",
       "  margin-bottom: 0;\n",
       "}\n",
       "\n",
       ".xr-var-item > .xr-var-name:hover span {\n",
       "  padding-right: 5px;\n",
       "}\n",
       "\n",
       ".xr-var-list > li:nth-child(odd) > div,\n",
       ".xr-var-list > li:nth-child(odd) > label,\n",
       ".xr-var-list > li:nth-child(odd) > .xr-var-name span {\n",
       "  background-color: var(--xr-background-color-row-odd);\n",
       "}\n",
       "\n",
       ".xr-var-name {\n",
       "  grid-column: 1;\n",
       "}\n",
       "\n",
       ".xr-var-dims {\n",
       "  grid-column: 2;\n",
       "}\n",
       "\n",
       ".xr-var-dtype {\n",
       "  grid-column: 3;\n",
       "  text-align: right;\n",
       "  color: var(--xr-font-color2);\n",
       "}\n",
       "\n",
       ".xr-var-preview {\n",
       "  grid-column: 4;\n",
       "}\n",
       "\n",
       ".xr-var-name,\n",
       ".xr-var-dims,\n",
       ".xr-var-dtype,\n",
       ".xr-preview,\n",
       ".xr-attrs dt {\n",
       "  white-space: nowrap;\n",
       "  overflow: hidden;\n",
       "  text-overflow: ellipsis;\n",
       "  padding-right: 10px;\n",
       "}\n",
       "\n",
       ".xr-var-name:hover,\n",
       ".xr-var-dims:hover,\n",
       ".xr-var-dtype:hover,\n",
       ".xr-attrs dt:hover {\n",
       "  overflow: visible;\n",
       "  width: auto;\n",
       "  z-index: 1;\n",
       "}\n",
       "\n",
       ".xr-var-attrs,\n",
       ".xr-var-data {\n",
       "  display: none;\n",
       "  background-color: var(--xr-background-color) !important;\n",
       "  padding-bottom: 5px !important;\n",
       "}\n",
       "\n",
       ".xr-var-attrs-in:checked ~ .xr-var-attrs,\n",
       ".xr-var-data-in:checked ~ .xr-var-data {\n",
       "  display: block;\n",
       "}\n",
       "\n",
       ".xr-var-data > table {\n",
       "  float: right;\n",
       "}\n",
       "\n",
       ".xr-var-name span,\n",
       ".xr-var-data,\n",
       ".xr-attrs {\n",
       "  padding-left: 25px !important;\n",
       "}\n",
       "\n",
       ".xr-attrs,\n",
       ".xr-var-attrs,\n",
       ".xr-var-data {\n",
       "  grid-column: 1 / -1;\n",
       "}\n",
       "\n",
       "dl.xr-attrs {\n",
       "  padding: 0;\n",
       "  margin: 0;\n",
       "  display: grid;\n",
       "  grid-template-columns: 125px auto;\n",
       "}\n",
       "\n",
       ".xr-attrs dt,\n",
       ".xr-attrs dd {\n",
       "  padding: 0;\n",
       "  margin: 0;\n",
       "  float: left;\n",
       "  padding-right: 10px;\n",
       "  width: auto;\n",
       "}\n",
       "\n",
       ".xr-attrs dt {\n",
       "  font-weight: normal;\n",
       "  grid-column: 1;\n",
       "}\n",
       "\n",
       ".xr-attrs dt:hover span {\n",
       "  display: inline-block;\n",
       "  background: var(--xr-background-color);\n",
       "  padding-right: 10px;\n",
       "}\n",
       "\n",
       ".xr-attrs dd {\n",
       "  grid-column: 2;\n",
       "  white-space: pre-wrap;\n",
       "  word-break: break-all;\n",
       "}\n",
       "\n",
       ".xr-icon-database,\n",
       ".xr-icon-file-text2 {\n",
       "  display: inline-block;\n",
       "  vertical-align: middle;\n",
       "  width: 1em;\n",
       "  height: 1.5em !important;\n",
       "  stroke-width: 0;\n",
       "  stroke: currentColor;\n",
       "  fill: currentColor;\n",
       "}\n",
       "</style><pre class='xr-text-repr-fallback'>&lt;xarray.DataArray (time: 4112)&gt;\n",
       "array([ 1.97853570e+00,  2.04263441e+00,  1.95348930e+00, ...,\n",
       "        1.16210873e-03, -5.68195846e-02, -6.30754001e-02])\n",
       "Coordinates:\n",
       "    control  float64 18.75\n",
       "  * time     (time) float64 0.0 0.007642 0.01528 0.02293 ... 31.4 31.41 31.42</pre><div class='xr-wrap' hidden><div class='xr-header'><div class='xr-obj-type'>xarray.DataArray</div><div class='xr-array-name'></div><ul class='xr-dim-list'><li><span class='xr-has-index'>time</span>: 4112</li></ul></div><ul class='xr-sections'><li class='xr-section-item'><div class='xr-array-wrap'><input id='section-f2acc73d-1c10-4318-bdb4-1025097ca66a' class='xr-array-in' type='checkbox' checked><label for='section-f2acc73d-1c10-4318-bdb4-1025097ca66a' title='Show/hide data repr'><svg class='icon xr-icon-database'><use xlink:href='#icon-database'></use></svg></label><div class='xr-array-preview xr-preview'><span>1.979 2.043 1.953 1.943 1.99 ... 0.0371 0.001162 -0.05682 -0.06308</span></div><div class='xr-array-data'><pre>array([ 1.97853570e+00,  2.04263441e+00,  1.95348930e+00, ...,\n",
       "        1.16210873e-03, -5.68195846e-02, -6.30754001e-02])</pre></div></div></li><li class='xr-section-item'><input id='section-cf5b74a0-5607-465e-aae4-9f58f4b46be9' class='xr-section-summary-in' type='checkbox'  checked><label for='section-cf5b74a0-5607-465e-aae4-9f58f4b46be9' class='xr-section-summary' >Coordinates: <span>(2)</span></label><div class='xr-section-inline-details'></div><div class='xr-section-details'><ul class='xr-var-list'><li class='xr-var-item'><div class='xr-var-name'><span>control</span></div><div class='xr-var-dims'>()</div><div class='xr-var-dtype'>float64</div><div class='xr-var-preview xr-preview'>18.75</div><input id='attrs-be42dfd1-d431-4162-a704-1574f8993aad' class='xr-var-attrs-in' type='checkbox' disabled><label for='attrs-be42dfd1-d431-4162-a704-1574f8993aad' title='Show/Hide attributes'><svg class='icon xr-icon-file-text2'><use xlink:href='#icon-file-text2'></use></svg></label><input id='data-687ec953-15c4-4068-993d-634f7a468cf7' class='xr-var-data-in' type='checkbox'><label for='data-687ec953-15c4-4068-993d-634f7a468cf7' title='Show/Hide data repr'><svg class='icon xr-icon-database'><use xlink:href='#icon-database'></use></svg></label><div class='xr-var-attrs'><dl class='xr-attrs'></dl></div><div class='xr-var-data'><pre>array(18.75)</pre></div></li><li class='xr-var-item'><div class='xr-var-name'><span class='xr-has-index'>time</span></div><div class='xr-var-dims'>(time)</div><div class='xr-var-dtype'>float64</div><div class='xr-var-preview xr-preview'>0.0 0.007642 ... 31.41 31.42</div><input id='attrs-7b07733b-1ad5-4884-b9a6-7e0889f7a03f' class='xr-var-attrs-in' type='checkbox' disabled><label for='attrs-7b07733b-1ad5-4884-b9a6-7e0889f7a03f' title='Show/Hide attributes'><svg class='icon xr-icon-file-text2'><use xlink:href='#icon-file-text2'></use></svg></label><input id='data-d8a8f70c-be73-46b4-ab61-541dda80e237' class='xr-var-data-in' type='checkbox'><label for='data-d8a8f70c-be73-46b4-ab61-541dda80e237' title='Show/Hide data repr'><svg class='icon xr-icon-database'><use xlink:href='#icon-database'></use></svg></label><div class='xr-var-attrs'><dl class='xr-attrs'></dl></div><div class='xr-var-data'><pre>array([0.000000e+00, 7.641918e-03, 1.528384e-02, ..., 3.140064e+01,\n",
       "       3.140828e+01, 3.141593e+01])</pre></div></li></ul></div></li><li class='xr-section-item'><input id='section-60027669-7a73-4dbd-8db9-f5da6a7dfaaf' class='xr-section-summary-in' type='checkbox' disabled ><label for='section-60027669-7a73-4dbd-8db9-f5da6a7dfaaf' class='xr-section-summary'  title='Expand/collapse section'>Attributes: <span>(0)</span></label><div class='xr-section-inline-details'></div><div class='xr-section-details'><dl class='xr-attrs'></dl></div></li></ul></div></div>"
      ],
      "text/plain": [
       "<xarray.DataArray (time: 4112)>\n",
       "array([ 1.97853570e+00,  2.04263441e+00,  1.95348930e+00, ...,\n",
       "        1.16210873e-03, -5.68195846e-02, -6.30754001e-02])\n",
       "Coordinates:\n",
       "    control  float64 18.75\n",
       "  * time     (time) float64 0.0 0.007642 0.01528 0.02293 ... 31.4 31.41 31.42"
      ]
     },
     "execution_count": 6,
     "metadata": {},
     "output_type": "execute_result"
    }
   ],
   "source": [
    "m = d[6]\n",
    "m"
   ]
  },
  {
   "cell_type": "code",
   "execution_count": 9,
   "metadata": {},
   "outputs": [
    {
     "data": {
      "application/vnd.jupyter.widget-view+json": {
       "model_id": "31bec9dbde8048d6a8c7cefb0cc7abd0",
       "version_major": 2,
       "version_minor": 0
      },
      "text/plain": [
       "Canvas(toolbar=Toolbar(toolitems=[('Home', 'Reset original view', 'home', 'home'), ('Back', 'Back to previous …"
      ]
     },
     "metadata": {},
     "output_type": "display_data"
    },
    {
     "data": {
      "text/plain": [
       "[<matplotlib.lines.Line2D at 0x7f159fe90670>]"
      ]
     },
     "execution_count": 9,
     "metadata": {},
     "output_type": "execute_result"
    }
   ],
   "source": [
    "fig, ax = plt.subplots()\n",
    "# ax.plot(m)\n",
    "# ax.plot(m.time, m)\n",
    "m.plot(ax=ax)"
   ]
  },
  {
   "cell_type": "code",
   "execution_count": 10,
   "metadata": {
    "tags": []
   },
   "outputs": [
    {
     "data": {
      "application/vnd.jupyter.widget-view+json": {
       "model_id": "df367932437f4e07b45373e785206929",
       "version_major": 2,
       "version_minor": 0
      },
      "text/plain": [
       "Canvas(toolbar=Toolbar(toolitems=[('Home', 'Reset original view', 'home', 'home'), ('Back', 'Back to previous …"
      ]
     },
     "metadata": {},
     "output_type": "display_data"
    },
    {
     "data": {
      "text/plain": [
       "Text(0, 0.5, 'displacement (mm)')"
      ]
     },
     "execution_count": 10,
     "metadata": {},
     "output_type": "execute_result"
    }
   ],
   "source": [
    "fig, ax = plt.subplots()\n",
    "control = float(m.control)\n",
    "t = m.time\n",
    "z = m.values\n",
    "(ln,) = ax.plot(t, z, label=f\"C: {control:.1f}\")\n",
    "ax.legend()\n",
    "ax.set_xlabel(\"time (ms)\")\n",
    "ax.set_ylabel(\"displacement (mm)\")\n"
   ]
  },
  {
   "cell_type": "code",
   "execution_count": 11,
   "metadata": {
    "tags": []
   },
   "outputs": [
    {
     "data": {
      "application/vnd.jupyter.widget-view+json": {
       "model_id": "1a836d96ec6141db8caafa41a465bd6b",
       "version_major": 2,
       "version_minor": 0
      },
      "text/plain": [
       "Canvas(toolbar=Toolbar(toolitems=[('Home', 'Reset original view', 'home', 'home'), ('Back', 'Back to previous …"
      ]
     },
     "metadata": {},
     "output_type": "display_data"
    },
    {
     "data": {
      "text/plain": [
       "Text(0, 0.5, 'displacement (mm)')"
      ]
     },
     "execution_count": 11,
     "metadata": {},
     "output_type": "execute_result"
    }
   ],
   "source": [
    "def plot_one(ax, m):\n",
    "    # pull what we want out of the xarray\n",
    "    control = float(m.control)\n",
    "    t = m.time\n",
    "    z = m.values\n",
    "\n",
    "    (ln,) = ax.plot(t, z, label=f\"C: {control:.1f}\")\n",
    "\n",
    "    return {\"raw\": ln}\n",
    "\n",
    "\n",
    "fig, ax = plt.subplots()\n",
    "plot_one(ax, d[0])\n",
    "plot_one(ax, d[5])\n",
    "plot_one(ax, d[-1])\n",
    "ax.legend()\n",
    "ax.set_xlabel(\"time (ms)\")\n",
    "ax.set_ylabel(\"displacement (mm)\")"
   ]
  },
  {
   "cell_type": "code",
   "execution_count": 12,
   "metadata": {},
   "outputs": [
    {
     "data": {
      "application/vnd.jupyter.widget-view+json": {
       "model_id": "858e189fbbcb4b45824f6c96a5656bc0",
       "version_major": 2,
       "version_minor": 0
      },
      "text/plain": [
       "Canvas(toolbar=Toolbar(toolitems=[('Home', 'Reset original view', 'home', 'home'), ('Back', 'Back to previous …"
      ]
     },
     "metadata": {},
     "output_type": "display_data"
    },
    {
     "data": {
      "text/plain": [
       "Text(0, 0.5, 'displacement (mm)')"
      ]
     },
     "execution_count": 12,
     "metadata": {},
     "output_type": "execute_result"
    }
   ],
   "source": [
    "def plot_one(ax, m, offset=0):\n",
    "    # pull what we want out of the xarray\n",
    "    control = float(m.coords[\"control\"])\n",
    "    t = m.time\n",
    "    z = m.values\n",
    "\n",
    "    (ln,) = ax.plot(t, z + offset, label=f\"C: {control:.1f}\")\n",
    "\n",
    "    return {\"raw\": ln}\n",
    "\n",
    "\n",
    "fig, ax = plt.subplots()\n",
    "plot_one(ax, d[0])\n",
    "plot_one(ax, d[10], offset=4)\n",
    "plot_one(ax, d[20], offset=8)\n",
    "ax.legend()\n",
    "ax.set_xlabel(\"time (ms)\")\n",
    "ax.set_ylabel(\"displacement (mm)\")\n"
   ]
  },
  {
   "cell_type": "code",
   "execution_count": 13,
   "metadata": {},
   "outputs": [],
   "source": [
    "from gen_data import fit"
   ]
  },
  {
   "cell_type": "code",
   "execution_count": 14,
   "metadata": {},
   "outputs": [
    {
     "name": "stdout",
     "output_type": "stream",
     "text": [
      "Params(A=2.002055853953679, zeta=0.043700066728527456, omega=3.561814944214661, phi=1.576163437079454)\n",
      "(A=2.00, ζ=0.04, ω0=3.56, φ=1.58)\n",
      "$(A=2.00, \\zeta=0.04, \\omega_0=3.56,\\varphi=1.58)$\n"
     ]
    },
    {
     "data": {
      "text/latex": [
       "$(A=2.00, \\zeta=0.04, \\omega_0=3.56,\\varphi=1.58)$"
      ],
      "text/plain": [
       "Params(A=2.002055853953679, zeta=0.043700066728527456, omega=3.561814944214661, phi=1.576163437079454)"
      ]
     },
     "execution_count": 14,
     "metadata": {},
     "output_type": "execute_result"
    }
   ],
   "source": [
    "fit_vals = fit(d[6])\n",
    "print(repr(fit_vals))\n",
    "print(fit_vals)\n",
    "print(fit_vals._repr_latex_())\n",
    "fit_vals"
   ]
  },
  {
   "cell_type": "code",
   "execution_count": 15,
   "metadata": {},
   "outputs": [
    {
     "data": {
      "application/vnd.jupyter.widget-view+json": {
       "model_id": "8e85ad6024224dd08765bb381de80130",
       "version_major": 2,
       "version_minor": 0
      },
      "text/plain": [
       "Canvas(toolbar=Toolbar(toolitems=[('Home', 'Reset original view', 'home', 'home'), ('Back', 'Back to previous …"
      ]
     },
     "metadata": {},
     "output_type": "display_data"
    },
    {
     "data": {
      "text/plain": [
       "Text(0, 0.5, 'displacement (mm)')"
      ]
     },
     "execution_count": 15,
     "metadata": {},
     "output_type": "execute_result"
    }
   ],
   "source": [
    "fig, ax = plt.subplots()\n",
    "ax.plot(m.time, fit_vals.sample(m.time), label=fit_vals._repr_latex_(), color='k')\n",
    "plt.gca().set_title(\n",
    "     r\"$A e^{-\\zeta\\omega_0t} \\sin\\left(\\sqrt{1 - \\zeta^2}\\omega_0t + \\varphi\\right)$\",\n",
    "     usetex=True,\n",
    ")\n",
    "\n",
    "plt.legend()\n",
    "ax.set_xlabel(\"time (ms)\")\n",
    "ax.set_ylabel(\"displacement (mm)\")\n"
   ]
  },
  {
   "cell_type": "code",
   "execution_count": 16,
   "metadata": {},
   "outputs": [],
   "source": [
    "def plot_one(ax, m, popt, offset=0):\n",
    "    # pull what we want out of the xarray\n",
    "    control = float(m.coords[\"control\"])\n",
    "    t = m.coords[\"time\"]\n",
    "    z = m.values\n",
    "\n",
    "    (ln,) = ax.plot(t, z + offset, label=f\"C: {control:.1f}\")\n",
    "    (fit,) = ax.plot(t, popt.sample(t) + offset, color=\"k\")\n",
    "    ann = ax.annotate(\n",
    "        f\"$\\\\zeta={popt.zeta:.2g}$, $\\\\omega_0={popt.omega:.2f}$\",\n",
    "        # units are (axes-fraction, data)\n",
    "        xy=(0.95, offset + 0.5),\n",
    "        xycoords=ax.get_yaxis_transform(),\n",
    "        # set the text alignment\n",
    "        ha=\"right\",\n",
    "        va=\"bottom\",\n",
    "    )\n",
    "    return {\"raw\": ln, \"fit\": fit, \"annotation\": ann}\n"
   ]
  },
  {
   "cell_type": "code",
   "execution_count": 17,
   "metadata": {},
   "outputs": [
    {
     "data": {
      "application/vnd.jupyter.widget-view+json": {
       "model_id": "744d3f06680948e491dfefef4b7ccf11",
       "version_major": 2,
       "version_minor": 0
      },
      "text/plain": [
       "Canvas(toolbar=Toolbar(toolitems=[('Home', 'Reset original view', 'home', 'home'), ('Back', 'Back to previous …"
      ]
     },
     "metadata": {},
     "output_type": "display_data"
    }
   ],
   "source": [
    "fig, ax = plt.subplots()\n",
    "plot_one(ax, d[0], fit(d[0]))\n",
    "plot_one(ax, d[10], fit(d[10]), offset=4)\n",
    "plot_one(ax, d[20], fit(d[20]), offset=8)\n",
    "plot_one(ax, d[24], fit(d[24]), offset=12)\n",
    "ax.legend(ncol=3, loc=\"upper center\")\n",
    "ax.set_xlabel(\"time (ms)\")\n",
    "ax.set_ylabel(\"displacement (mm)\")\n",
    "plt.show()\n"
   ]
  },
  {
   "cell_type": "code",
   "execution_count": 18,
   "metadata": {},
   "outputs": [],
   "source": [
    "def plot_several(ax, d, fits):\n",
    "    out = []\n",
    "\n",
    "    for j, (m, popt) in enumerate(zip(d, fits)):\n",
    "        arts = plot_one(ax, m, popt, offset=3.75 * j)\n",
    "        out.append(arts)\n",
    "\n",
    "    ax.set_xlabel(\"time (ms)\")\n",
    "    ax.set_ylabel(\"displacement (mm)\")\n",
    "\n",
    "    return out\n"
   ]
  },
  {
   "cell_type": "code",
   "execution_count": 20,
   "metadata": {},
   "outputs": [
    {
     "data": {
      "application/vnd.jupyter.widget-view+json": {
       "model_id": "552b2f08e07947749f78ab9bb93f67f0",
       "version_major": 2,
       "version_minor": 0
      },
      "text/plain": [
       "Canvas(toolbar=Toolbar(toolitems=[('Home', 'Reset original view', 'home', 'home'), ('Back', 'Back to previous …"
      ]
     },
     "metadata": {},
     "output_type": "display_data"
    },
    {
     "data": {
      "text/plain": [
       "<matplotlib.legend.Legend at 0x7f15e0c71580>"
      ]
     },
     "execution_count": 20,
     "metadata": {},
     "output_type": "execute_result"
    }
   ],
   "source": [
    "fig, ax = plt.subplots()\n",
    "indx = [0, 5, 10]\n",
    "plot_several(ax, d[indx], [fit(d[i]) for i in indx])\n",
    "ax.legend(ncol=3, loc=\"upper center\")"
   ]
  },
  {
   "cell_type": "code",
   "execution_count": 21,
   "metadata": {},
   "outputs": [],
   "source": [
    "fits = [fit(m) for m in d]                               # fit all of the curves\n",
    "fits_df = pd.DataFrame(fits, index=d.coords[\"control\"])  # put the fit values is a DataFrame"
   ]
  },
  {
   "cell_type": "code",
   "execution_count": 22,
   "metadata": {},
   "outputs": [
    {
     "data": {
      "application/vnd.jupyter.widget-view+json": {
       "model_id": "be9ef9a08be44b20a2415880a7b6312d",
       "version_major": 2,
       "version_minor": 0
      },
      "text/plain": [
       "Canvas(toolbar=Toolbar(toolitems=[('Home', 'Reset original view', 'home', 'home'), ('Back', 'Back to previous …"
      ]
     },
     "metadata": {},
     "output_type": "display_data"
    },
    {
     "data": {
      "text/plain": [
       "<AxesSubplot:xlabel='control'>"
      ]
     },
     "execution_count": 22,
     "metadata": {},
     "output_type": "execute_result"
    }
   ],
   "source": [
    "fig, ax = plt.subplots()\n",
    "fits_df.plot(y=['zeta', 'omega'], ax=ax)"
   ]
  },
  {
   "cell_type": "code",
   "execution_count": 23,
   "metadata": {},
   "outputs": [],
   "source": [
    "def plot_zeta(ax, fits_df):\n",
    "    ax.set_ylabel(r\"$\\zeta$\")\n",
    "    ax.set_xlabel(\"control (arb)\")\n",
    "    ax.set_ylim(0, 0.08)\n",
    "    return ax.plot(\n",
    "        fits_df[\"zeta\"], marker=\"o\", color=\"k\", label=\"\\N{greek small letter zeta}\", linestyle=''\n",
    "    )\n",
    "\n",
    "\n",
    "def plot_omega(ax, fits_df):\n",
    "    ax.set_ylabel(r\"$\\omega_0/2\\pi$ (kHz)\")\n",
    "    ax.set_xlabel(\"control (arb)\")\n",
    "    ax.set_ylim(0, 1.25)\n",
    "    return ax.plot(\n",
    "        fits_df[\"omega\"] / (2 * np.pi),\n",
    "        marker=\"o\",\n",
    "        color=\"k\",\n",
    "        label=\"\\N{greek small letter omega}\",\n",
    "    )\n"
   ]
  },
  {
   "cell_type": "code",
   "execution_count": 24,
   "metadata": {},
   "outputs": [
    {
     "data": {
      "application/vnd.jupyter.widget-view+json": {
       "model_id": "6ba9450e655e4454958dd4e7af243d38",
       "version_major": 2,
       "version_minor": 0
      },
      "text/plain": [
       "Canvas(toolbar=Toolbar(toolitems=[('Home', 'Reset original view', 'home', 'home'), ('Back', 'Back to previous …"
      ]
     },
     "metadata": {},
     "output_type": "display_data"
    },
    {
     "data": {
      "text/plain": [
       "<matplotlib.legend.Legend at 0x7f15e0a23520>"
      ]
     },
     "execution_count": 24,
     "metadata": {},
     "output_type": "execute_result"
    }
   ],
   "source": [
    "fig, (ax1, ax2) = plt.subplots(1, 2, constrained_layout=True)\n",
    "plot_zeta(ax1, fits_df)\n",
    "plot_omega(ax2, fits_df)\n",
    "ax1.legend()\n",
    "ax2.legend()"
   ]
  },
  {
   "cell_type": "code",
   "execution_count": 25,
   "metadata": {},
   "outputs": [],
   "source": [
    "def plot_one(ax, m, popt, offset=0):\n",
    "    # pull what we want out of the xarray\n",
    "    control = float(m.coords[\"control\"])\n",
    "    t = m.coords[\"time\"]\n",
    "    z = m.values\n",
    "\n",
    "    (ln,) = ax.plot(t, z + offset, label=f\"C: {control:.1f}\")\n",
    "    (fit,) = ax.plot(t, popt.sample(t) + offset, color=\"k\")\n",
    "    ann = ax.annotate(\n",
    "        f\"$C={control:.1f}$\\n$\\\\zeta={popt.zeta:.2g}$ $\\\\omega_0={popt.omega:.2f}$\",\n",
    "        # units are (axes-fraction, data)\n",
    "        xy=(0.95, offset + 0.5),\n",
    "        xycoords=ax.get_yaxis_transform(),\n",
    "        # set the text alignment\n",
    "        ha=\"right\",\n",
    "        va=\"bottom\",\n",
    "    )\n",
    "    return {\"raw\": ln, \"fit\": fit, \"annotation\": ann}\n",
    "\n",
    "def plot_several(ax, d, fits):\n",
    "    out = []\n",
    "\n",
    "    for j, (m, popt) in enumerate(zip(d, fits)):\n",
    "        arts = plot_one(ax, m, popt, offset=3.75 * j)\n",
    "        out.append(arts)\n",
    "\n",
    "    ax.set_xlabel(\"time (ms)\")\n",
    "    ax.set_ylabel(\"displacement (mm)\")\n",
    "\n",
    "    return out"
   ]
  },
  {
   "cell_type": "code",
   "execution_count": 26,
   "metadata": {},
   "outputs": [
    {
     "data": {
      "application/vnd.jupyter.widget-view+json": {
       "model_id": "bf0c97271c9e40d68a163617500bf60d",
       "version_major": 2,
       "version_minor": 0
      },
      "text/plain": [
       "Canvas(toolbar=Toolbar(toolitems=[('Home', 'Reset original view', 'home', 'home'), ('Back', 'Back to previous …"
      ]
     },
     "metadata": {},
     "output_type": "display_data"
    },
    {
     "data": {
      "text/plain": [
       "[{'raw': <matplotlib.lines.Line2D at 0x7f15e06525b0>,\n",
       "  'fit': <matplotlib.lines.Line2D at 0x7f15e0652880>,\n",
       "  'annotation': Text(0.95, 0.5, '$C=15.0$\\n$\\\\zeta=0.052$ $\\\\omega_0=3.00$')},\n",
       " {'raw': <matplotlib.lines.Line2D at 0x7f15e0652b50>,\n",
       "  'fit': <matplotlib.lines.Line2D at 0x7f15e06527f0>,\n",
       "  'annotation': Text(0.95, 4.25, '$C=21.2$\\n$\\\\zeta=0.049$ $\\\\omega_0=4.01$')},\n",
       " {'raw': <matplotlib.lines.Line2D at 0x7f15e06524c0>,\n",
       "  'fit': <matplotlib.lines.Line2D at 0x7f15e06596a0>,\n",
       "  'annotation': Text(0.95, 8.0, '$C=30.0$\\n$\\\\zeta=0.058$ $\\\\omega_0=6.00$')}]"
      ]
     },
     "execution_count": 26,
     "metadata": {},
     "output_type": "execute_result"
    }
   ],
   "source": [
    "fig, ax = plt.subplots()\n",
    "indx = [0, 10, 24]\n",
    "plot_several(ax, d[indx], [fits[i] for i in indx])"
   ]
  },
  {
   "cell_type": "code",
   "execution_count": 27,
   "metadata": {},
   "outputs": [
    {
     "data": {
      "application/vnd.jupyter.widget-view+json": {
       "model_id": "3715fa7e649e41359d69e820cb94d414",
       "version_major": 2,
       "version_minor": 0
      },
      "text/plain": [
       "Canvas(toolbar=Toolbar(toolitems=[('Home', 'Reset original view', 'home', 'home'), ('Back', 'Back to previous …"
      ]
     },
     "metadata": {},
     "output_type": "display_data"
    },
    {
     "data": {
      "text/plain": [
       "[<matplotlib.lines.Line2D at 0x7f159c5257f0>]"
      ]
     },
     "execution_count": 27,
     "metadata": {},
     "output_type": "execute_result"
    }
   ],
   "source": [
    "fig, (ax1, ax2, ax3) = plt.subplots(1, 3, constrained_layout=True)\n",
    "indx = [0, 10, 24]\n",
    "plot_several(ax1, d[indx], [fits[i] for i in indx])\n",
    "plot_zeta(ax2, fits_df)\n",
    "plot_omega(ax3, fits_df)"
   ]
  },
  {
   "cell_type": "code",
   "execution_count": 28,
   "metadata": {},
   "outputs": [
    {
     "data": {
      "application/vnd.jupyter.widget-view+json": {
       "model_id": "6ff9ce913e9f4dd4a2afb2d13d10c1be",
       "version_major": 2,
       "version_minor": 0
      },
      "text/plain": [
       "Canvas(toolbar=Toolbar(toolitems=[('Home', 'Reset original view', 'home', 'home'), ('Back', 'Back to previous …"
      ]
     },
     "metadata": {},
     "output_type": "display_data"
    }
   ],
   "source": [
    "fig, ax_dict = plt.subplot_mosaic(\"\"\"\n",
    "AB\n",
    "AC\n",
    "\"\"\", constrained_layout=True)\n",
    "indx = [0, 10, 24]\n",
    "plot_several(ax_dict['A'], d[indx], [fits[i] for i in indx])\n",
    "plot_zeta(ax_dict['B'], fits_df)\n",
    "plot_omega(ax_dict['C'], fits_df)\n",
    "fig.align_ylabels(list(ax_dict.values()))"
   ]
  },
  {
   "cell_type": "code",
   "execution_count": 29,
   "metadata": {},
   "outputs": [],
   "source": [
    "def subplot_label(ax, text):\n",
    "    return ax.annotate(\n",
    "        text,\n",
    "        # units are (axes-fraction, axes-fraction)\n",
    "        # # this is bottom right\n",
    "        # xy=(1, 0),\n",
    "        # this is the top left\n",
    "        xy=(0, 1),\n",
    "        xycoords=\"axes fraction\",\n",
    "        # units are absolute offset in points from xy\n",
    "        xytext=(-5, 5),\n",
    "        textcoords=(\"offset points\"),\n",
    "        # set the text alignment\n",
    "        ha=\"right\",\n",
    "        va=\"bottom\",\n",
    "        fontweight=\"bold\",\n",
    "        fontsize=\"larger\",\n",
    "    )\n"
   ]
  },
  {
   "cell_type": "code",
   "execution_count": 30,
   "metadata": {},
   "outputs": [
    {
     "data": {
      "application/vnd.jupyter.widget-view+json": {
       "model_id": "383b818d4c384d058eaf0e05da5d78bb",
       "version_major": 2,
       "version_minor": 0
      },
      "text/plain": [
       "Canvas(toolbar=Toolbar(toolitems=[('Home', 'Reset original view', 'home', 'home'), ('Back', 'Back to previous …"
      ]
     },
     "metadata": {},
     "output_type": "display_data"
    }
   ],
   "source": [
    "fig, ax_dict = plt.subplot_mosaic(\"\"\"\n",
    "AB\n",
    "AC\n",
    "\"\"\", constrained_layout=True)\n",
    "indx = [0, 10, 24]\n",
    "plot_several(ax_dict['A'], d[indx], [fits[i] for i in indx])\n",
    "plot_zeta(ax_dict['B'], fits_df)\n",
    "plot_omega(ax_dict['C'], fits_df)\n",
    "fig.align_ylabels(list(ax_dict.values()))\n",
    "subplot_labels = {\n",
    "    k: subplot_label(v, f\"({k.lower()})\") for k, v in ax_dict.items()\n",
    "}"
   ]
  },
  {
   "cell_type": "code",
   "execution_count": 31,
   "metadata": {},
   "outputs": [],
   "source": [
    "def paper_figure_2(fig, layout, d, fits, *, plot_every=5):\n",
    "    ax_dict = fig.subplot_mosaic(layout)\n",
    "\n",
    "    fits_df = pd.DataFrame(fits, index=d.coords[\"control\"])\n",
    "\n",
    "    index = list(range(0, len(d), plot_every))\n",
    "\n",
    "    artists = {\n",
    "        \"vibrations\": plot_several(ax_dict[\"A\"], d[index], [fits[i] for i in index]),\n",
    "        \"zeta\": plot_zeta(ax_dict[\"B\"], fits_df),\n",
    "        \"omega\": plot_omega(ax_dict[\"C\"], fits_df),\n",
    "    }\n",
    "\n",
    "    fig.align_ylabels(list(ax_dict.values()))\n",
    "    subplot_labels = {\n",
    "        k: subplot_label(v, f\"({k.lower()})\") for k, v in ax_dict.items()\n",
    "    }\n",
    "\n",
    "    return (fig, ax_dict, artists, subplot_labels)"
   ]
  },
  {
   "cell_type": "code",
   "execution_count": 32,
   "metadata": {},
   "outputs": [],
   "source": [
    "single_col_width = 8.6 / 2.54  # single column APS figure\n",
    "double_col_width = 17.8 / 2.54  # double column APS figure\n"
   ]
  },
  {
   "cell_type": "code",
   "execution_count": 33,
   "metadata": {},
   "outputs": [
    {
     "data": {
      "application/vnd.jupyter.widget-view+json": {
       "model_id": "c72c62d846c2480fa495bae73f59f41f",
       "version_major": 2,
       "version_minor": 0
      },
      "text/plain": [
       "Canvas(toolbar=Toolbar(toolitems=[('Home', 'Reset original view', 'home', 'home'), ('Back', 'Back to previous …"
      ]
     },
     "metadata": {},
     "output_type": "display_data"
    }
   ],
   "source": [
    "fig, axs, arts, labels = paper_figure_2(\n",
    "    plt.figure(\n",
    "        constrained_layout=True, figsize=(double_col_width, double_col_width * 0.5)\n",
    "    ),\n",
    "    \"AB\\nAC\",\n",
    "    d,\n",
    "    fits,\n",
    "    plot_every=5,\n",
    ")"
   ]
  },
  {
   "cell_type": "code",
   "execution_count": 34,
   "metadata": {},
   "outputs": [
    {
     "data": {
      "application/vnd.jupyter.widget-view+json": {
       "model_id": "c8b88a54f77f4b1ca96d56972d22e172",
       "version_major": 2,
       "version_minor": 0
      },
      "text/plain": [
       "Canvas(toolbar=Toolbar(toolitems=[('Home', 'Reset original view', 'home', 'home'), ('Back', 'Back to previous …"
      ]
     },
     "metadata": {},
     "output_type": "display_data"
    },
    {
     "data": {
      "text/plain": [
       "(<Figure size 338.583x846.457 with 3 Axes>,\n",
       " {'A': <AxesSubplot:label='A', xlabel='time (ms)', ylabel='displacement (mm)'>,\n",
       "  'B': <AxesSubplot:label='B', xlabel='control (arb)', ylabel='$\\\\zeta$'>,\n",
       "  'C': <AxesSubplot:label='C', xlabel='control (arb)', ylabel='$\\\\omega_0/2\\\\pi$ (kHz)'>},\n",
       " {'vibrations': [{'raw': <matplotlib.lines.Line2D at 0x7f159c182eb0>,\n",
       "    'fit': <matplotlib.lines.Line2D at 0x7f159c1064c0>,\n",
       "    'annotation': Text(0.95, 0.5, '$C=15.0$\\n$\\\\zeta=0.052$ $\\\\omega_0=3.00$')},\n",
       "   {'raw': <matplotlib.lines.Line2D at 0x7f159c1069a0>,\n",
       "    'fit': <matplotlib.lines.Line2D at 0x7f159c106df0>,\n",
       "    'annotation': Text(0.95, 4.25, '$C=21.2$\\n$\\\\zeta=0.049$ $\\\\omega_0=4.01$')},\n",
       "   {'raw': <matplotlib.lines.Line2D at 0x7f159c10c1f0>,\n",
       "    'fit': <matplotlib.lines.Line2D at 0x7f159c10cb20>,\n",
       "    'annotation': Text(0.95, 8.0, '$C=27.5$\\n$\\\\zeta=0.056$ $\\\\omega_0=5.36$')}],\n",
       "  'zeta': [<matplotlib.lines.Line2D at 0x7f159c10c460>],\n",
       "  'omega': [<matplotlib.lines.Line2D at 0x7f159c10cf40>]},\n",
       " {'A': Text(-5, 5, '(a)'), 'B': Text(-5, 5, '(b)'), 'C': Text(-5, 5, '(c)')})"
      ]
     },
     "execution_count": 34,
     "metadata": {},
     "output_type": "execute_result"
    }
   ],
   "source": [
    "paper_figure_2(\n",
    "    plt.figure(\n",
    "        constrained_layout=True, figsize=(single_col_width, single_col_width * 2.5)\n",
    "    ),\n",
    "    \"A\\nB\\nC\",\n",
    "    d,\n",
    "    fits,\n",
    "    plot_every=10,\n",
    ")\n"
   ]
  },
  {
   "cell_type": "code",
   "execution_count": null,
   "metadata": {},
   "outputs": [],
   "source": []
  }
 ],
 "metadata": {
  "kernelspec": {
   "display_name": "Python 3",
   "language": "python",
   "name": "python3"
  },
  "language_info": {
   "codemirror_mode": {
    "name": "ipython",
    "version": 3
   },
   "file_extension": ".py",
   "mimetype": "text/x-python",
   "name": "python",
   "nbconvert_exporter": "python",
   "pygments_lexer": "ipython3",
   "version": "3.9.2"
  }
 },
 "nbformat": 4,
 "nbformat_minor": 4
}
